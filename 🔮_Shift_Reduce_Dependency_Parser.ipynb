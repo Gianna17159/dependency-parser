{
  "cells": [
    {
      "cell_type": "markdown",
      "metadata": {
        "id": "view-in-github",
        "colab_type": "text"
      },
      "source": [
        "<a href=\"https://colab.research.google.com/github/Gianna17159/dependency-parser/blob/main/%F0%9F%94%AE_Shift_Reduce_Dependency_Parser.ipynb\" target=\"_parent\"><img src=\"https://colab.research.google.com/assets/colab-badge.svg\" alt=\"Open In Colab\"/></a>"
      ]
    },
    {
      "cell_type": "markdown",
      "metadata": {
        "id": "wFyK0hfPGKdV"
      },
      "source": [
        "# 🔮 ➡️ Shift-Reduce Dependency Parser"
      ]
    },
    {
      "cell_type": "markdown",
      "metadata": {
        "id": "Cpc3bVYqGUlx"
      },
      "source": [
        "# Package Imports and Installation Setup"
      ]
    },
    {
      "cell_type": "code",
      "execution_count": null,
      "metadata": {
        "id": "HMNSWAfyExKB",
        "colab": {
          "base_uri": "https://localhost:8080/"
        },
        "outputId": "c093c9f4-1b3b-470f-e2d8-fc5cd2788f16"
      },
      "outputs": [
        {
          "output_type": "stream",
          "name": "stdout",
          "text": [
            "Requirement already satisfied: torch in /usr/local/lib/python3.10/dist-packages (2.5.1+cu121)\n",
            "Requirement already satisfied: tqdm in /usr/local/lib/python3.10/dist-packages (4.66.6)\n",
            "Requirement already satisfied: numpy in /usr/local/lib/python3.10/dist-packages (1.26.4)\n",
            "Requirement already satisfied: evaluate in /usr/local/lib/python3.10/dist-packages (0.4.3)\n",
            "Requirement already satisfied: filelock in /usr/local/lib/python3.10/dist-packages (from torch) (3.16.1)\n",
            "Requirement already satisfied: typing-extensions>=4.8.0 in /usr/local/lib/python3.10/dist-packages (from torch) (4.12.2)\n",
            "Requirement already satisfied: networkx in /usr/local/lib/python3.10/dist-packages (from torch) (3.4.2)\n",
            "Requirement already satisfied: jinja2 in /usr/local/lib/python3.10/dist-packages (from torch) (3.1.4)\n",
            "Requirement already satisfied: fsspec in /usr/local/lib/python3.10/dist-packages (from torch) (2024.9.0)\n",
            "Requirement already satisfied: sympy==1.13.1 in /usr/local/lib/python3.10/dist-packages (from torch) (1.13.1)\n",
            "Requirement already satisfied: mpmath<1.4,>=1.1.0 in /usr/local/lib/python3.10/dist-packages (from sympy==1.13.1->torch) (1.3.0)\n",
            "Requirement already satisfied: datasets>=2.0.0 in /usr/local/lib/python3.10/dist-packages (from evaluate) (3.1.0)\n",
            "Requirement already satisfied: dill in /usr/local/lib/python3.10/dist-packages (from evaluate) (0.3.8)\n",
            "Requirement already satisfied: pandas in /usr/local/lib/python3.10/dist-packages (from evaluate) (2.2.2)\n",
            "Requirement already satisfied: requests>=2.19.0 in /usr/local/lib/python3.10/dist-packages (from evaluate) (2.32.3)\n",
            "Requirement already satisfied: xxhash in /usr/local/lib/python3.10/dist-packages (from evaluate) (3.5.0)\n",
            "Requirement already satisfied: multiprocess in /usr/local/lib/python3.10/dist-packages (from evaluate) (0.70.16)\n",
            "Requirement already satisfied: huggingface-hub>=0.7.0 in /usr/local/lib/python3.10/dist-packages (from evaluate) (0.26.2)\n",
            "Requirement already satisfied: packaging in /usr/local/lib/python3.10/dist-packages (from evaluate) (24.2)\n",
            "Requirement already satisfied: pyarrow>=15.0.0 in /usr/local/lib/python3.10/dist-packages (from datasets>=2.0.0->evaluate) (17.0.0)\n",
            "Requirement already satisfied: aiohttp in /usr/local/lib/python3.10/dist-packages (from datasets>=2.0.0->evaluate) (3.11.2)\n",
            "Requirement already satisfied: pyyaml>=5.1 in /usr/local/lib/python3.10/dist-packages (from datasets>=2.0.0->evaluate) (6.0.2)\n",
            "Requirement already satisfied: charset-normalizer<4,>=2 in /usr/local/lib/python3.10/dist-packages (from requests>=2.19.0->evaluate) (3.4.0)\n",
            "Requirement already satisfied: idna<4,>=2.5 in /usr/local/lib/python3.10/dist-packages (from requests>=2.19.0->evaluate) (3.10)\n",
            "Requirement already satisfied: urllib3<3,>=1.21.1 in /usr/local/lib/python3.10/dist-packages (from requests>=2.19.0->evaluate) (2.2.3)\n",
            "Requirement already satisfied: certifi>=2017.4.17 in /usr/local/lib/python3.10/dist-packages (from requests>=2.19.0->evaluate) (2024.8.30)\n",
            "Requirement already satisfied: MarkupSafe>=2.0 in /usr/local/lib/python3.10/dist-packages (from jinja2->torch) (3.0.2)\n",
            "Requirement already satisfied: python-dateutil>=2.8.2 in /usr/local/lib/python3.10/dist-packages (from pandas->evaluate) (2.8.2)\n",
            "Requirement already satisfied: pytz>=2020.1 in /usr/local/lib/python3.10/dist-packages (from pandas->evaluate) (2024.2)\n",
            "Requirement already satisfied: tzdata>=2022.7 in /usr/local/lib/python3.10/dist-packages (from pandas->evaluate) (2024.2)\n",
            "Requirement already satisfied: aiohappyeyeballs>=2.3.0 in /usr/local/lib/python3.10/dist-packages (from aiohttp->datasets>=2.0.0->evaluate) (2.4.3)\n",
            "Requirement already satisfied: aiosignal>=1.1.2 in /usr/local/lib/python3.10/dist-packages (from aiohttp->datasets>=2.0.0->evaluate) (1.3.1)\n",
            "Requirement already satisfied: attrs>=17.3.0 in /usr/local/lib/python3.10/dist-packages (from aiohttp->datasets>=2.0.0->evaluate) (24.2.0)\n",
            "Requirement already satisfied: frozenlist>=1.1.1 in /usr/local/lib/python3.10/dist-packages (from aiohttp->datasets>=2.0.0->evaluate) (1.5.0)\n",
            "Requirement already satisfied: multidict<7.0,>=4.5 in /usr/local/lib/python3.10/dist-packages (from aiohttp->datasets>=2.0.0->evaluate) (6.1.0)\n",
            "Requirement already satisfied: propcache>=0.2.0 in /usr/local/lib/python3.10/dist-packages (from aiohttp->datasets>=2.0.0->evaluate) (0.2.0)\n",
            "Requirement already satisfied: yarl<2.0,>=1.17.0 in /usr/local/lib/python3.10/dist-packages (from aiohttp->datasets>=2.0.0->evaluate) (1.17.2)\n",
            "Requirement already satisfied: async-timeout<6.0,>=4.0 in /usr/local/lib/python3.10/dist-packages (from aiohttp->datasets>=2.0.0->evaluate) (4.0.3)\n",
            "Requirement already satisfied: six>=1.5 in /usr/local/lib/python3.10/dist-packages (from python-dateutil>=2.8.2->pandas->evaluate) (1.16.0)\n"
          ]
        }
      ],
      "source": [
        "!pip install torch tqdm numpy evaluate"
      ]
    },
    {
      "cell_type": "code",
      "execution_count": null,
      "metadata": {
        "id": "SmPBF_yIFbwj",
        "colab": {
          "base_uri": "https://localhost:8080/"
        },
        "outputId": "52fe08fa-1711-4ad0-97bd-ae287b8f51cb"
      },
      "outputs": [
        {
          "output_type": "execute_result",
          "data": {
            "text/plain": [
              "<torch._C.Generator at 0x7855f453d590>"
            ]
          },
          "metadata": {},
          "execution_count": 181
        }
      ],
      "source": [
        "import numpy as np\n",
        "import random\n",
        "import tqdm\n",
        "import torch\n",
        "from evaluate import load as load_metric\n",
        "\n",
        "from typing import Any\n",
        "from numpy.typing import NDArray\n",
        "\n",
        "from google.colab import output\n",
        "output.enable_custom_widget_manager()\n",
        "\n",
        "# seeding\n",
        "random.seed(1460)\n",
        "np.random.seed(1460)\n",
        "torch.manual_seed(1460)"
      ]
    },
    {
      "cell_type": "markdown",
      "metadata": {
        "id": "kFKVMSPW9D8U"
      },
      "source": [
        "# Part 1: Basic Algorithm with Ground-Truth Dummy Oracle"
      ]
    },
    {
      "cell_type": "markdown",
      "metadata": {
        "id": "Uxsdi7nh36zR"
      },
      "source": [
        "### 1. Download and load the data\n",
        "\n",
        "We will be using two files for this: `train.conll` and `test.conll`."
      ]
    },
    {
      "cell_type": "code",
      "source": [
        "#update FOLDER below!\n",
        "FOLDER = \"/content/drive/My Drive/cs1460/assignment 5\"\n",
        "TRAIN_FILEPATH = f\"{FOLDER}/train.conll\"\n",
        "TEST_FILEPATH = f\"{FOLDER}/test.conll\""
      ],
      "metadata": {
        "id": "2ymz4XuWd_a2"
      },
      "execution_count": null,
      "outputs": []
    },
    {
      "cell_type": "markdown",
      "metadata": {
        "id": "ZVLpnEEDO95P"
      },
      "source": [
        "`read_conll` returns a list of dictionaries, where each dictionary encodes a parsed sentence. Each dictionary has a `\"words\"` key, which maps to a list of words which make up the sentence, and `\"heads\"` key, which maps to a list of integers, where the value at index `i` is the index of the word that is word `i`'s head. The root word has a head value of `None`.  \n",
        "\n",
        "So the sentence \"1460 is awesome.\" would have the words `[\"1460\", \"is\", \"awesome\", \".\"]` (yes, the punctuation is included), with heads `[2, 2, None, 2]`. Check out the visual below which illustrates the dependency parse (arrows going out of one word and into another mean that that first word is the head of the second):\n",
        "\n",
        "![Screenshot 2022-11-21 164002.png](data:image/png;base64,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)\n",
        "\n",
        "As you can see, \"awesome\" is the root word, and its head is hence the value `None`. \"awesome\" is also the head of all of the other words, you can see this since the `\"heads\"` values corresponding to the other words are all `2`, which is the index of the word \"awesome\" in the `\"words\"` list.'"
      ]
    },
    {
      "cell_type": "code",
      "execution_count": null,
      "metadata": {
        "id": "KBPvso44FcLj"
      },
      "outputs": [],
      "source": [
        "def read_conll(in_file: str,\n",
        "               lowercase: bool = False,\n",
        "               max_example: int | None = None\n",
        "               ) -> list[dict[str, Any]]:\n",
        "    \"\"\"\n",
        "    Function that reads in a CoNLL file and produces example parses.\n",
        "\n",
        "    Parameters\n",
        "    ----------\n",
        "    in_file : str\n",
        "        file path to a .conll file\n",
        "    lowercase : bool\n",
        "        determines whether to lowercase words in the \"words\" string\n",
        "    max_example : int | None\n",
        "        the maximum number of examples to process, or None to process all\n",
        "\n",
        "    Returns\n",
        "    -------\n",
        "    list[dict[str, Any]]\n",
        "        a list of examples taken from the .conll file\n",
        "    \"\"\"\n",
        "\n",
        "    examples = []\n",
        "    with open(in_file) as f:\n",
        "        word, pos, head, label = [], [], [], []\n",
        "        for line in f.readlines():\n",
        "            sp = line.strip().split(\"\\t\")\n",
        "            if len(sp) == 10:\n",
        "                if \"-\" not in sp[0]:\n",
        "                    word.append(sp[1].lower() if lowercase else sp[1])\n",
        "                    pos.append(sp[4])\n",
        "                    head.append(int(sp[6]) - 1)\n",
        "                    label.append(sp[7])\n",
        "            elif len(word) > 0:\n",
        "                examples.append({\"words\": word, \"pos\": pos, \"heads\": head, \"label\": label})\n",
        "                word, pos, head, label = [], [], [], []\n",
        "                if (max_example is not None) and (len(examples) == max_example):\n",
        "                    break\n",
        "        if len(word) > 0:\n",
        "            head[head.index(-1)] = None\n",
        "            examples.append({\"words\": word, \"pos\": pos, \"heads\": head, \"label\": label})\n",
        "    return examples"
      ]
    },
    {
      "cell_type": "markdown",
      "metadata": {
        "id": "cq7-FI5d6Zn-"
      },
      "source": [
        "### 2. Ground-truth dummy oracle **\n",
        "This function takes the current stack, buffer, root word, as well as the full parse (read from the CoNLL), and returns the ground-truth correct action (arc left, arc right, or shift) to be taken by the shift-reduce algorithm.\n",
        "\n",
        "NOTE: Integers represent predicted actions. This is helpful for the sake of model training and visualization later on."
      ]
    },
    {
      "cell_type": "code",
      "execution_count": null,
      "metadata": {
        "id": "nBmYxfY267lR"
      },
      "outputs": [],
      "source": [
        "def get_ground_truth_oracle(stack: list[int],\n",
        "                            buf: list[int],\n",
        "                            ex: dict[str, Any]\n",
        "                            ) -> int | None:\n",
        "    \"\"\"\n",
        "    Function that retrieves the best possible action (arc left, arc right, or shift)\n",
        "    for a given stack, buffer, and a labeled example sentence from the CoNLL file.\n",
        "\n",
        "    Parameters\n",
        "    ----------\n",
        "    stack : list[int]\n",
        "        the shift-reduce stack\n",
        "    buf : list[int]\n",
        "        the shift-reduce buffer\n",
        "    ex : dict[str, Any]\n",
        "        raw training example dict produced by read_conll()\n",
        "\n",
        "    Returns\n",
        "    -------\n",
        "    int | None: {None, 0, 1, 2}\n",
        "        action to apply in shift-reduce algorithm\n",
        "\n",
        "        None -> no actions can be taken\n",
        "        0 -> arc left\n",
        "        1 -> arc right\n",
        "        2 -> shift\n",
        "    \"\"\"\n",
        "\n",
        "    if len(stack) == 1:\n",
        "        return None if len(buf) == 0 else 2\n",
        "    elif len(stack) == 2:\n",
        "        return 1 if len(buf) == 0 else 2\n",
        "\n",
        "    sf = stack[-1]\n",
        "    ss = stack[-2]\n",
        "    hf = ex[\"heads\"][sf]\n",
        "    hs = ex[\"heads\"][ss]\n",
        "\n",
        "    if hs == sf:\n",
        "        return 0\n",
        "    elif hf == ss and (not any([True for x in buf if ex[\"heads\"][x] == sf])):\n",
        "        return 1\n",
        "    else:\n",
        "        return None if len(buf) == 0 else 2"
      ]
    },
    {
      "cell_type": "markdown",
      "metadata": {
        "id": "VZ4Lt3kxVzKp"
      },
      "source": [
        "### 3. `word_to_id`\n",
        "\n",
        "**Background information about the oracle**\n",
        "\n",
        "To train a model using supervised learning to create the oracle, we'll break the parsing of an entire sentence down into steps, called _partial parses_. At each step a classifier will have to decide, given some features of a partial parse, whether to arc left, arc right, or shift. I label each partial parse with the correct action (from the CoNLL data), and train the model to execute partial parses as well as possible.\n",
        "\n",
        "The input to the model is therefore a set of features of the partial parse, from which the correct action is to be predicted. The model will use learned word embeddings to interpret these features, and will classify between three classes (arc left, arc right, and shift). The model's embedding layer will be used to fetch these learned embeddings for words based on their vocabulary index/ID. As such, the model takes some number of integers, each less than the size of the vocabulary, as input.\n",
        "\n",
        "-------\n",
        "\n",
        "I first define `word_to_id`, which, when in `is_test=False` mode, both builds a vocabulary as well as returns the IDs of known words; when `is_test=True`, unknown words are not used to expand the vocabulary."
      ]
    },
    {
      "cell_type": "code",
      "execution_count": null,
      "metadata": {
        "id": "YfBhLxCMVpAF"
      },
      "outputs": [],
      "source": [
        "def word_to_id(word: str, vocab: dict[str, int], is_test: bool = False) -> int:\n",
        "    \"\"\"\n",
        "    Function that converts a string `word` to its corresponding ID in `vocab`.\n",
        "    If not in testing mode, also adds `word` to vocab.\n",
        "\n",
        "    Parameters\n",
        "    ----------\n",
        "    word : str\n",
        "        the word in question\n",
        "    vocab : dict[str, int]\n",
        "        vocabulary mapping words to their ID\n",
        "    is_test : bool\n",
        "        whether to operate in testing or training mode\n",
        "\n",
        "    Returns\n",
        "    -------\n",
        "    int\n",
        "        the ID of `word`\n",
        "    \"\"\"\n",
        "\n",
        "    if is_test:\n",
        "        if word in vocab:\n",
        "            return vocab[word]\n",
        "        else:\n",
        "            return vocab[\"<UNK>\"]\n",
        "\n",
        "    # otherwise, we're doing train:\n",
        "    if word in vocab:\n",
        "        if random.randint(0, 100) < 5:\n",
        "            # randomly mask this word for training example, otherwise <UNK> never trained on\n",
        "            return vocab[\"<UNK>\"]\n",
        "        return vocab[word]\n",
        "    else:\n",
        "        n = len(vocab)\n",
        "        vocab[word] = n\n",
        "        return n"
      ]
    },
    {
      "cell_type": "markdown",
      "metadata": {
        "id": "B_RzctwMteya"
      },
      "source": [
        "## 4. `apply_action`"
      ]
    },
    {
      "cell_type": "code",
      "execution_count": null,
      "metadata": {
        "id": "2x9lMIZizSE-"
      },
      "outputs": [],
      "source": [
        "def apply_action(stack: list[int],\n",
        "                 buf: list[int],\n",
        "                 arcs: list[tuple[int, int]],\n",
        "                 action: int\n",
        "                 ) -> tuple[list[int],\n",
        "                            list[int],\n",
        "                            list[tuple[int, int]]]:\n",
        "    \"\"\"\n",
        "    Function that applies `action` to the current state. Modifies `stack`, `buf`, and\n",
        "    `arcs` accordingly and returns their modified versions. `stack`, `buf`, and `arcs` contain the\n",
        "    indices of words in an example sentence, where an index of None represents the\n",
        "    root.\n",
        "\n",
        "    Parameters\n",
        "    ----------\n",
        "    stack : list[int]\n",
        "        the current shift-reduce stack. stack[-1] is the top of stack, stack[-2] is\n",
        "        the second item\n",
        "    buf : list[int]\n",
        "        the current shift-reduce buffer. buf[0] is the first item in the buffer\n",
        "    arcs : list[tuple[int, int]]\n",
        "        the current arcs produced by shift-reduce (of the form (head idx, word idx))\n",
        "    action : int\n",
        "        the action we want to apply\n",
        "        0 -> arc left\n",
        "        1 -> arc right\n",
        "        2 -> shift\n",
        "\n",
        "    Returns\n",
        "    -------\n",
        "    tuple[list[int], list[int], list[tuple[int, int]]]\n",
        "        the updated stack, buffer, and arcs\n",
        "    \"\"\"\n",
        "\n",
        "    if action == 0:\n",
        "        first = stack.pop(-2)\n",
        "        arcs.append((stack[-1], first))\n",
        "    elif action == 1:\n",
        "        last = stack.pop(-1)\n",
        "        arcs.append((stack[-1], last))\n",
        "    elif action == 2:\n",
        "        stack.append(buf[0])\n",
        "        buf.pop(0)\n",
        "    return stack, buf, arcs"
      ]
    },
    {
      "cell_type": "markdown",
      "metadata": {
        "id": "tamGi2Gh7D0x"
      },
      "source": [
        "### 5. `get_features`\n",
        "This is a featurization function. It takes in information about the partial parse - the stack, buffer, words in the sentence being parsed, and a vocabulary (as well as an `is_test` flag) - and returns a featurization to be passed to the classifier in order to get an output (the action to be taken)."
      ]
    },
    {
      "cell_type": "code",
      "execution_count": null,
      "metadata": {
        "id": "inKn3jWEtI32"
      },
      "outputs": [],
      "source": [
        "def get_features(stack: list[int],\n",
        "                 buf: list[int],\n",
        "                 words: list[str],\n",
        "                 vocab: dict[str, int],\n",
        "                 is_test: bool = False\n",
        "                 ) -> list[int]:\n",
        "    \"\"\"\n",
        "    Function that takes in the current state (stack, buffer) and produces a set of\n",
        "    features to be fed into a classifier. Think about what information our\n",
        "    classifier would need to know in order to predict an optimal action from the\n",
        "    current state.\n",
        "    HINT: you should only need 3 features!\n",
        "\n",
        "    Parameters\n",
        "    ----------\n",
        "    stack : list[int]\n",
        "        the shift-reduce stack\n",
        "    buf : list[int]\n",
        "        the shift-reduce buffer\n",
        "    words : list[str]\n",
        "        words in the sentence, in order\n",
        "    vocab : dict[str, int]\n",
        "        the vocabulary used to generate the word IDs\n",
        "    is_test : bool\n",
        "        whether we are in testing mode\n",
        "\n",
        "    Returns\n",
        "    -------\n",
        "    list[int]\n",
        "        A list of three integers to be fed into the classifier\n",
        "        HINT: use word_to_id on the items of the data structures\n",
        "    \"\"\"\n",
        "\n",
        "    if len(stack) == 1:\n",
        "        if len(buf) == 0:\n",
        "            return [word_to_id(\"<ROOT>\", vocab, is_test), word_to_id(\"<NW>\", vocab, is_test), word_to_id(\"<NW>\", vocab, is_test)]\n",
        "        elif len(buf) >= 1:\n",
        "            return [word_to_id(\"<ROOT>\", vocab, is_test), word_to_id(\"<NW>\", vocab, is_test), word_to_id(words[buf[0]], vocab, is_test)]\n",
        "    elif len(stack) == 2:\n",
        "        if len(buf) == 0:\n",
        "            return [word_to_id(words[stack[-1]], vocab, is_test), word_to_id(\"<ROOT>\", vocab, is_test), word_to_id(\"<NW>\", vocab, is_test)]\n",
        "        elif len(buf) >= 1:\n",
        "            return [word_to_id(words[stack[-1]], vocab, is_test), word_to_id(\"<ROOT>\", vocab, is_test), word_to_id(words[buf[0]], vocab, is_test)]\n",
        "    elif len(stack) >= 3:\n",
        "        if len(buf) == 0:\n",
        "            return [word_to_id(words[stack[-1]], vocab, is_test), word_to_id(words[stack[-2]], vocab, is_test), word_to_id(\"<NW>\", vocab, is_test)]\n",
        "        elif len(buf) >= 1:\n",
        "            return [word_to_id(words[stack[-1]], vocab, is_test), word_to_id(words[stack[-2]], vocab, is_test), word_to_id(words[buf[0]], vocab, is_test)]"
      ]
    },
    {
      "cell_type": "code",
      "execution_count": null,
      "metadata": {
        "id": "jxkUbuNz0gnk",
        "colab": {
          "base_uri": "https://localhost:8080/"
        },
        "outputId": "a6013bf5-a5b4-4a81-db37-74494ef13368"
      },
      "outputs": [
        {
          "output_type": "stream",
          "name": "stdout",
          "text": [
            "[0, 2, 3]\n"
          ]
        }
      ],
      "source": [
        "# Test get features\n",
        "sentence = \"I prefer the morning flight through Denver .\"\n",
        "parse_example = {\"words\": sentence.split(\" \"), \"heads\": [1, None, 4, 4, 1, 6, 1, 1]}\n",
        "fake_vocab = {\"<ROOT>\": 0, \"<UNK>\": 1, \"<NW>\": 2, \"I\": 3, \"prefer\": 4, \"the\": 5, \"morning\": 6, \"flight\": 7, \"through\": 8, \"Denver\": 9, \".\": 10}\n",
        "\n",
        "stack = [None]                  # stack initialized with root index\n",
        "buf = [0, 1, 2, 3, 4, 5, 6, 7]  # buf initialized with word indices\n",
        "features = get_features(stack, buf, parse_example[\"words\"], fake_vocab, is_test=False)\n",
        "\n",
        "assert len(features) == 3\n",
        "print(features)"
      ]
    },
    {
      "cell_type": "markdown",
      "metadata": {
        "id": "QN_mkd-T6Yii"
      },
      "source": [
        "### 6. `oracle_shift_reduce` **[TODO]**\n",
        "This is one of the two implementations of shift-reduce algorithm; in this first case, we know the ground-truth action (rather than using a model that was trained to act as an oracle). For a labeled example, this function applies the algorithm to generate partial parses for training, as well as the correct arcs."
      ]
    },
    {
      "cell_type": "code",
      "execution_count": null,
      "metadata": {
        "id": "N9BY2UXDs_xq"
      },
      "outputs": [],
      "source": [
        "def oracle_shift_reduce(example: dict[str, Any],\n",
        "                        vocab: dict[str, int],\n",
        "                        is_test: bool = False\n",
        "                        ) -> tuple[list[list[int]],\n",
        "                                   list[int],\n",
        "                                   list[tuple[int, int]]]:\n",
        "    \"\"\"\n",
        "    Function that executes the ideal shift-reduce algorithm determined by the ground-truth oracle\n",
        "    on a single example, and returns a set of features and labels to pass into the classifier.\n",
        "    This function will be called for every example parse to generate our training\n",
        "    data.\n",
        "\n",
        "    Parameters\n",
        "    ----------\n",
        "    example : dict[str, Any]\n",
        "        a training example produced by read_conll\n",
        "    vocab : dict[str, int]\n",
        "        the vocabulary\n",
        "    is_test : bool\n",
        "        whether the function is being used to generate training or testing data.\n",
        "\n",
        "    Returns\n",
        "    -------\n",
        "    tuple[list[list[int]], list[int], list[tuple[int, int]]]\n",
        "        featurized states, ground truth actions, and final set of arcs.\n",
        "    \"\"\"\n",
        "\n",
        "    featurized_states = []\n",
        "    ground_truth_actions = []\n",
        "\n",
        "    # initialize stack, buffer, and arcs\n",
        "    stack = [None]\n",
        "    buf = []\n",
        "    for i in range(len(example[\"words\"])):\n",
        "        buf.append(i)\n",
        "    arcs = []\n",
        "\n",
        "    while len(stack) > 1 or len(buf) > 0:\n",
        "        action = get_ground_truth_oracle(stack, buf, example)\n",
        "        if action is None:\n",
        "            return featurized_states, ground_truth_actions, arcs\n",
        "        featurized_states.append(get_features(stack, buf, example[\"words\"], vocab, is_test))\n",
        "        ground_truth_actions.append(action)\n",
        "        stack, buf, arcs = apply_action(stack, buf, arcs, action)\n",
        "\n",
        "    return featurized_states, ground_truth_actions, arcs"
      ]
    },
    {
      "cell_type": "markdown",
      "metadata": {
        "id": "4ROnsQoWBOXj"
      },
      "source": [
        "# Part 2: Machine-Learned Oracle\n",
        "Above, you implemented a version of shift-reduce that assumed you had a ground-truth oracle. Of course, in the real world, you won't ever have this! So, in order to run your parser on unseen data, you will need to implement another version of the oracle - this time using machine learning!"
      ]
    },
    {
      "cell_type": "markdown",
      "metadata": {
        "id": "GGYdV-h3-kJj"
      },
      "source": [
        "### 1. `generate_training_data`\n",
        "Uses the ground-truth oracle from above to generate training/testing instances (partial parses labeled with the appropriate next action to take) to train the classifier on. This essentially entails applying `oracle_shift_reduce` to every example in the raw data."
      ]
    },
    {
      "cell_type": "code",
      "execution_count": null,
      "metadata": {
        "id": "vg_4j2qzFeIe"
      },
      "outputs": [],
      "source": [
        "def generate_training_data(raw_data: list[dict[str, Any]],\n",
        "                           vocab: dict[str, int],\n",
        "                           is_test: bool = False\n",
        "                           ) -> tuple[list[list[int]],\n",
        "                                      list[int]]:\n",
        "    \"\"\"\n",
        "    Function that generates training data and labels from a list of examples\n",
        "    produced by read_conll().\n",
        "\n",
        "    Parameters\n",
        "    ----------\n",
        "    raw_data : list[dict[str, Any]]\n",
        "        a list of example parses loaded with read_conll\n",
        "    vocab : dict[str, int]\n",
        "        the vocabulary to use\n",
        "    is_test : bool\n",
        "        whether to create testing or training data\n",
        "\n",
        "    Returns\n",
        "    -------\n",
        "    tuple[list[list[int]], list[int]]\n",
        "        a set of featurized states and corresponding ground truth actions\n",
        "    \"\"\"\n",
        "\n",
        "    X, Y = [], []\n",
        "\n",
        "    for example in raw_data:\n",
        "        featurized_states, ground_truth_actions, arcs = oracle_shift_reduce(example, vocab, is_test)\n",
        "        X.extend(featurized_states)\n",
        "        Y.extend(ground_truth_actions)\n",
        "\n",
        "    return X, Y"
      ]
    },
    {
      "cell_type": "markdown",
      "metadata": {
        "id": "KrfMUh7uPp0_"
      },
      "source": [
        "### 2. SRDataset\n",
        "Since this assignment uses PyTorch modules as the classifiers for the shift-reduce algorithm, I make a `Dataset` child class for the data, such that I can eventually use PyTorch `DataLoader`s during training and evaluation.\n"
      ]
    },
    {
      "cell_type": "code",
      "execution_count": null,
      "metadata": {
        "id": "eCX9rMHFPspz"
      },
      "outputs": [],
      "source": [
        "class SRDataset(torch.utils.data.Dataset):\n",
        "    def __init__(self, X: list[list[int]], Y: list[int]) -> None:\n",
        "        \"\"\"\n",
        "        Function that initializes fields for the dataset.\n",
        "\n",
        "        Parameters\n",
        "        ----------\n",
        "        X : list[list[int]]\n",
        "            our featurized data from `generate_training_data()`\n",
        "        Y : list[int]\n",
        "            one-hot encoded labels corresponding to each entry in X\n",
        "\n",
        "        Returns\n",
        "        -------\n",
        "        None\n",
        "        \"\"\"\n",
        "\n",
        "        self.X = np.zeros((len(X), len(X[0])), dtype=\"int32\")\n",
        "        self.Y = np.zeros((len(Y), 3), dtype=\"float32\")\n",
        "        for i, class_num in enumerate(Y):\n",
        "            self.X[i] = X[i]\n",
        "            self.Y[i, class_num] = 1\n",
        "\n",
        "    def __len__(self) -> int:\n",
        "        \"\"\"\n",
        "        Function that returns the number of training examples.\n",
        "\n",
        "        Parameters\n",
        "        ----------\n",
        "        self : refers to the current object\n",
        "\n",
        "        Returns\n",
        "        -------\n",
        "        int\n",
        "            the number of entries in X\n",
        "        \"\"\"\n",
        "        return len(self.Y)\n",
        "\n",
        "    def __getitem__(self, idx: int) -> dict[str, NDArray[Any]]:\n",
        "        \"\"\"\n",
        "        Function that defines how to retrieve an entry and a label from the data given\n",
        "        and index.\n",
        "\n",
        "        Parameters\n",
        "        ----------\n",
        "        idx : int\n",
        "            the index of an example in X or Y\n",
        "        Returns\n",
        "        -------\n",
        "        dict[str, NDArray[Any]]\n",
        "            a dictionary defining the example and corresponding label described by\n",
        "            index `idx`\n",
        "        \"\"\"\n",
        "        return {\"inputs\": self.X[idx], \"targets\": self.Y[idx]}"
      ]
    },
    {
      "cell_type": "markdown",
      "metadata": {
        "id": "JY_4RN-9sl5v"
      },
      "source": [
        "### 3. Training Function"
      ]
    },
    {
      "cell_type": "code",
      "execution_count": null,
      "metadata": {
        "id": "u5rwjT0rKGDi"
      },
      "outputs": [],
      "source": [
        "def train(model: torch.nn.Module,\n",
        "          dataloader: torch.utils.data.DataLoader,\n",
        "          epochs: int,\n",
        "          optimizer: torch.optim.Optimizer,\n",
        "          metric_names: list[str]) -> None:\n",
        "    \"\"\"\n",
        "    Function that trains our classifier.\n",
        "\n",
        "    Parameters\n",
        "    ----------\n",
        "    model : torch.nn.Module\n",
        "        the classifier we want to train\n",
        "    dataloader : torch.utils.data.DataLoader\n",
        "        the dataloader containing our training data\n",
        "    epochs : int\n",
        "        number of epochs to train the model\n",
        "    optimizer : torch.optim.Optimizer\n",
        "        the optimizer to use for training\n",
        "    metric_names : list[str]\n",
        "        list of metric names to compute\n",
        "\n",
        "    Returns\n",
        "    -------\n",
        "    None\n",
        "    \"\"\"\n",
        "    model.train()\n",
        "    loss_func = torch.nn.CrossEntropyLoss()\n",
        "\n",
        "    for epoch in range(epochs):\n",
        "        print(f\"epoch {epoch}\")\n",
        "        progress_bar = tqdm.notebook.tqdm(range(len(dataloader)))\n",
        "\n",
        "        metrics = [load_metric(x) for x in metric_names]\n",
        "\n",
        "        for batch in dataloader:\n",
        "            batch = {k: v.to(device) for k, v in batch.items()}\n",
        "\n",
        "            outputs = model(**batch)\n",
        "\n",
        "            loss = loss_func(outputs[\"output\"], outputs[\"labels\"])\n",
        "            loss.backward()\n",
        "\n",
        "            predictions = torch.argmax(outputs[\"output\"], dim=1)\n",
        "            references = torch.argmax(outputs[\"labels\"], dim=-1)\n",
        "\n",
        "            for metric in metrics:\n",
        "                metric.add_batch(predictions=predictions, references=references)\n",
        "\n",
        "            optimizer.step()\n",
        "            optimizer.zero_grad()\n",
        "            progress_bar.update(1)\n",
        "\n",
        "        for metric in metrics:\n",
        "            print(metric.compute())"
      ]
    },
    {
      "cell_type": "markdown",
      "metadata": {
        "id": "IXA1BqmP7SHR"
      },
      "source": [
        "### 4. `SRClassifier`"
      ]
    },
    {
      "cell_type": "code",
      "execution_count": null,
      "metadata": {
        "id": "sJj2JJLZIOaz"
      },
      "outputs": [],
      "source": [
        "class SRClassifier(torch.nn.Module):\n",
        "    def __init__(self, vocab_size: int, num_features: int) -> None:\n",
        "        \"\"\"\n",
        "        Function that initializes fields for this model. This is where you can\n",
        "        your model's architecture.\n",
        "\n",
        "        Parameters\n",
        "        ----------\n",
        "        vocab_size : int\n",
        "            the number of words in our vocabulary\n",
        "        num_features : int\n",
        "            the number of features for each training example (same as length of the\n",
        "            list returned by `get_features()`)\n",
        "\n",
        "        Returns\n",
        "        -------\n",
        "        None\n",
        "        \"\"\"\n",
        "        super(SRClassifier, self).__init__()\n",
        "\n",
        "        # TODO\n",
        "\n",
        "        self.embedding = torch.nn.Embedding(vocab_size, 128)\n",
        "        self.linear1 = torch.nn.Linear(num_features * 128, 128)\n",
        "        self.linear2 = torch.nn.Linear(128, 64)\n",
        "        self.linear3 = torch.nn.Linear(64, num_features)\n",
        "        self.relu1 = torch.nn.ReLU()\n",
        "        self.relu2 = torch.nn.ReLU()\n",
        "        self.relu3 = torch.nn.ReLU()\n",
        "\n",
        "    def forward(self,\n",
        "                inputs: torch.IntTensor,\n",
        "                targets: torch.IntTensor | None = None\n",
        "                ) -> dict[str, torch.FloatTensor | torch.IntTensor]: # notice that the arg names need to match SRDataset.__getitem__() keys\n",
        "        \"\"\"\n",
        "        Function that defines the forward pass for this model.\n",
        "\n",
        "        Parameters\n",
        "        ----------\n",
        "        inputs : torch.IntTensor\n",
        "            a tensor passed into our model. When training/testing, the torch\n",
        "            dataloader automatically casts our numpy arrays to tensors.\n",
        "        targets : torch.IntTensor | None\n",
        "            a tensor representing labels for each training example in `inputs`. If\n",
        "            not training, this parameter can be None.\n",
        "\n",
        "        Returns\n",
        "        -------\n",
        "        dict[str, torch.FloatTensor | torch.IntTensor]\n",
        "            a dictionary containing our model's output and corresponding labels.\n",
        "        \"\"\"\n",
        "\n",
        "        #pass inputs (numpy array of word indices/IDs) through classifier\n",
        "\n",
        "        x = self.embedding(inputs)\n",
        "        x = x.view(x.size(0), -1)\n",
        "        x = self.relu1(self.linear1(x))\n",
        "        x = self.relu2(self.linear2(x))\n",
        "        outputs = self.relu3(self.linear3(x))\n",
        "\n",
        "        return {'output': outputs, 'labels': targets}"
      ]
    },
    {
      "cell_type": "markdown",
      "metadata": {
        "id": "vKuQeNknCndl"
      },
      "source": [
        "### 5. Training the classifier\n",
        "Initialize some required data that will be used in training."
      ]
    },
    {
      "cell_type": "code",
      "execution_count": null,
      "metadata": {
        "id": "3PZ-EWTxF4AG"
      },
      "outputs": [],
      "source": [
        "vocabulary = {\"<ROOT>\": 0, \"<UNK>\": 1, \"<NW>\": 2}"
      ]
    },
    {
      "cell_type": "markdown",
      "metadata": {
        "id": "4yJq_LDmJrTS"
      },
      "source": [
        "Load the training data using `read_conll`, generate training instances using `generate_training_data` and instantiate a `SRDataset` object with them. Finally, create a `DataLoader` with the `SRDataset` object."
      ]
    },
    {
      "cell_type": "code",
      "execution_count": null,
      "metadata": {
        "id": "EcyotNFwUtmy",
        "colab": {
          "base_uri": "https://localhost:8080/"
        },
        "outputId": "fc2ec0c6-f5f2-418f-9720-b1c85a47d2e2"
      },
      "outputs": [
        {
          "output_type": "stream",
          "name": "stdout",
          "text": [
            "Drive already mounted at drive; to attempt to forcibly remount, call drive.mount(\"drive\", force_remount=True).\n"
          ]
        }
      ],
      "source": [
        "from google.colab import drive\n",
        "drive.mount(\"drive\")"
      ]
    },
    {
      "cell_type": "code",
      "execution_count": null,
      "metadata": {
        "id": "SXRTivhOItsW"
      },
      "outputs": [],
      "source": [
        "raw_training_data = read_conll(TRAIN_FILEPATH) # if this fails, scroll back up to Part 1 and update the filepath\n",
        "\n",
        "X_train, Y_train = generate_training_data(raw_training_data, vocabulary)\n",
        "\n",
        "train_dataset = SRDataset(X_train, Y_train)\n",
        "train_dataloader = torch.utils.data.DataLoader(train_dataset, batch_size=1024)"
      ]
    },
    {
      "cell_type": "code",
      "execution_count": null,
      "metadata": {
        "id": "SmL_By00IQXM",
        "colab": {
          "base_uri": "https://localhost:8080/"
        },
        "outputId": "6411d820-40e6-4b24-acff-8e9a21504a1d"
      },
      "outputs": [
        {
          "output_type": "stream",
          "name": "stdout",
          "text": [
            "[[0, 2, 3], [3, 0, 4], [4, 3, 5], [5, 4, 6], [6, 5, 7], [7, 6, 8], [7, 5, 8], [7, 4, 8], [7, 3, 8], [7, 0, 8]]\n",
            "[2, 2, 2, 2, 2, 0, 0, 0, 0, 2]\n"
          ]
        }
      ],
      "source": [
        "# at this point, each partial parse should be a 3-tuple of integers.\n",
        "print(X_train[:10])\n",
        "print(Y_train[:10])"
      ]
    },
    {
      "cell_type": "markdown",
      "metadata": {
        "id": "1oVSBx6kKISj"
      },
      "source": [
        "Instantiate our classifier and set up the training hyperparameters and the optimizer."
      ]
    },
    {
      "cell_type": "code",
      "execution_count": null,
      "metadata": {
        "id": "t7TovLnTJ4wB",
        "colab": {
          "base_uri": "https://localhost:8080/",
          "height": 434,
          "referenced_widgets": [
            "b064dbad710343aab404e48e233a68ba",
            "7644832cc7b44b4cb6a0a988659797fd",
            "693e907216664295b53748252c0fc182",
            "437905227c9e4890ba1e2adea8551cbe",
            "7bba393594114fcd9330e95b97618502",
            "fd22c9dca9354d938a9ca22af9287747",
            "67e222e33c5049aab201ca4edebbc34c",
            "d29f29f05a204b9fbd33b683fbaf8039",
            "c66185d5a9a541ba94dc1d250cec0133",
            "d5be8a1bc17a486da0eddcbe74ff2c5c",
            "f7a6a8dba02341509d6e39ce84430303",
            "a37ffc81ec9b414dba87c9b156b46579",
            "29055b963d98409986c04e5ba54e1cef",
            "963ede4157c04d73aef267a0c2039316",
            "eb4f44daf6344a4b93175b7cf67fb55c",
            "984c0f8f468844c19055b7d35f5e1952",
            "275d17f68e304ef4b7e78abd4d8eca98",
            "2a847188d4a84e83a8c92ca54f639017",
            "8f3fce75d8494eae8a84f2b01ebd058f",
            "5547a5b1df024af0bfaaaba8b6af68d4",
            "b93f69eca83246bf8310e60e59d7ed62",
            "d5c0eb0810ba45d49a70af7b2ca90c6a",
            "19347d065dbe45a8b7123bc6a4f841df",
            "4deb6025aec34ae18578b97ad609f0b7",
            "2733a6d67552492091c6c7c7db559dc8",
            "0d23749913bd457f9c65fc9094096079",
            "e1ad43c08ba54efc9d54601dab361fba",
            "7141e9d5e4d147558480c1ca6776a900",
            "5c539b9ecf2146e7acdc72217e98cf78",
            "2f2f602f427b488fa89ce23f529ed684",
            "2a56e3cc8c724a0ab82df70c88bd925b",
            "2bd0c3a6a838467b9ac3741ac7f79f2c",
            "6e3e9e114fa44b54a7b7b1838d3743e8",
            "40c31bb5359049c4b49fb95602c34d94",
            "17f3662d63dd4a44b4160c6246978818",
            "4408650d01f149919b4a3454cb294d3b",
            "47de18a961af475db1c3fb3f044f3360",
            "d1ca1ec827104669b0274a7403763520",
            "3fa3dafd52444fe78f7bbbb2c2c1f43a",
            "f047b75e3b7b4b508c1ed70975c3bdf6",
            "9d84adca6e2e4fbf8bf89d6b220d7210",
            "fe62a8157786479dbb5967ff1bf6b2a0",
            "d51fa8c2710445c88f9d8d7652e1b6b4",
            "6f83cb89bf41461fa0f1bfd5d9f950b3"
          ]
        },
        "outputId": "264b79ac-5f0e-44e1-c769-2b062e2ed14b"
      },
      "outputs": [
        {
          "output_type": "stream",
          "name": "stdout",
          "text": [
            "SRClassifier(\n",
            "  (embedding): Embedding(44392, 128)\n",
            "  (linear1): Linear(in_features=384, out_features=128, bias=True)\n",
            "  (linear2): Linear(in_features=128, out_features=64, bias=True)\n",
            "  (linear3): Linear(in_features=64, out_features=3, bias=True)\n",
            "  (relu1): ReLU()\n",
            "  (relu2): ReLU()\n",
            "  (relu3): ReLU()\n",
            ")\n",
            "epoch 0\n"
          ]
        },
        {
          "output_type": "display_data",
          "data": {
            "text/plain": [
              "  0%|          | 0/1855 [00:00<?, ?it/s]"
            ],
            "application/vnd.jupyter.widget-view+json": {
              "version_major": 2,
              "version_minor": 0,
              "model_id": "b064dbad710343aab404e48e233a68ba"
            }
          },
          "metadata": {
            "application/vnd.jupyter.widget-view+json": {
              "colab": {
                "custom_widget_manager": {
                  "url": "https://ssl.gstatic.com/colaboratory-static/widgets/colab-cdn-widget-manager/2b70e893a8ba7c0f/manager.min.js"
                }
              }
            }
          }
        },
        {
          "output_type": "stream",
          "name": "stdout",
          "text": [
            "{'accuracy': 0.8358743539956449}\n",
            "epoch 1\n"
          ]
        },
        {
          "output_type": "display_data",
          "data": {
            "text/plain": [
              "  0%|          | 0/1855 [00:00<?, ?it/s]"
            ],
            "application/vnd.jupyter.widget-view+json": {
              "version_major": 2,
              "version_minor": 0,
              "model_id": "d5c0eb0810ba45d49a70af7b2ca90c6a"
            }
          },
          "metadata": {
            "application/vnd.jupyter.widget-view+json": {
              "colab": {
                "custom_widget_manager": {
                  "url": "https://ssl.gstatic.com/colaboratory-static/widgets/colab-cdn-widget-manager/2b70e893a8ba7c0f/manager.min.js"
                }
              }
            }
          }
        },
        {
          "output_type": "stream",
          "name": "stdout",
          "text": [
            "{'accuracy': 0.8830253010475063}\n",
            "epoch 2\n"
          ]
        },
        {
          "output_type": "display_data",
          "data": {
            "text/plain": [
              "  0%|          | 0/1855 [00:00<?, ?it/s]"
            ],
            "application/vnd.jupyter.widget-view+json": {
              "version_major": 2,
              "version_minor": 0,
              "model_id": "6e3e9e114fa44b54a7b7b1838d3743e8"
            }
          },
          "metadata": {
            "application/vnd.jupyter.widget-view+json": {
              "colab": {
                "custom_widget_manager": {
                  "url": "https://ssl.gstatic.com/colaboratory-static/widgets/colab-cdn-widget-manager/2b70e893a8ba7c0f/manager.min.js"
                }
              }
            }
          }
        },
        {
          "output_type": "stream",
          "name": "stdout",
          "text": [
            "{'accuracy': 0.899669258405954}\n",
            "epoch 3\n"
          ]
        },
        {
          "output_type": "display_data",
          "data": {
            "text/plain": [
              "  0%|          | 0/1855 [00:00<?, ?it/s]"
            ],
            "application/vnd.jupyter.widget-view+json": {
              "version_major": 2,
              "version_minor": 0,
              "model_id": "6f83cb89bf41461fa0f1bfd5d9f950b3"
            }
          },
          "metadata": {
            "application/vnd.jupyter.widget-view+json": {
              "colab": {
                "custom_widget_manager": {
                  "url": "https://ssl.gstatic.com/colaboratory-static/widgets/colab-cdn-widget-manager/2b70e893a8ba7c0f/manager.min.js"
                }
              }
            }
          }
        },
        {
          "output_type": "stream",
          "name": "stdout",
          "text": [
            "{'accuracy': 0.9120117849726856}\n"
          ]
        }
      ],
      "source": [
        "# setting up the classifier\n",
        "device = torch.device(\"cuda\" if torch.cuda.is_available() else \"cpu\")\n",
        "model = SRClassifier(len(vocabulary), 3) # instantiate classifier\n",
        "print(model)\n",
        "\n",
        "epochs = 4\n",
        "\n",
        "optimizer = torch.optim.AdamW(model.parameters(), lr=5e-3)\n",
        "\n",
        "model.to(device)\n",
        "\n",
        "metrics = [\"accuracy\"]\n",
        "\n",
        "train(model, train_dataloader, epochs, optimizer, metrics)"
      ]
    },
    {
      "cell_type": "markdown",
      "metadata": {
        "id": "MmyL1wwGLVsL"
      },
      "source": [
        "### 6. Evaluating the classifier\n",
        "I evaluate the classifer to get an idea of its accuracy before using it as an oracle in the shift-reduce algorithm. First, I load the testing data and generate the labeled partial parses for testing, after which I instantiate `SRDataset` and `DataLoader` objects similarly to when training."
      ]
    },
    {
      "cell_type": "code",
      "execution_count": null,
      "metadata": {
        "id": "r1Bw_HcsKqQg"
      },
      "outputs": [],
      "source": [
        "test_data = read_conll(TEST_FILEPATH)\n",
        "\n",
        "X_test, Y_test = generate_training_data(test_data, vocabulary, is_test=True) # is_test is true here!\n",
        "\n",
        "test_dataset = SRDataset(X_test, Y_test)\n",
        "test_dataloader = torch.utils.data.DataLoader(test_dataset, batch_size=256)"
      ]
    },
    {
      "cell_type": "code",
      "execution_count": null,
      "metadata": {
        "id": "cnGxs_EhLZlW"
      },
      "outputs": [],
      "source": [
        "def evaluate(model: torch.nn.Module,\n",
        "             dataloader: torch.utils.data.DataLoader,\n",
        "             metric_names: list[str]\n",
        "             ) -> None:\n",
        "    \"\"\"\n",
        "    Function that evaluates a trained model.\n",
        "\n",
        "    Parameters\n",
        "    ----------\n",
        "    model : torch.nn.Module\n",
        "        the model to be evaluated\n",
        "    dataloader : torch.utils.data.DataLoader\n",
        "        the dataloader containing our testing data\n",
        "    metric_names : list[str]\n",
        "        a list of metric names to compute\n",
        "\n",
        "    Returns\n",
        "    -------\n",
        "    None\n",
        "    \"\"\"\n",
        "    model.eval()\n",
        "    metrics = [load_metric(metric) for metric in metric_names]\n",
        "\n",
        "    print(\"evaluation: \")\n",
        "    progress_bar = tqdm.notebook.tqdm(range(len(dataloader)))\n",
        "\n",
        "    for batch in dataloader:\n",
        "        batch = {k: v.to(device) for k, v in batch.items()}\n",
        "        with torch.no_grad():\n",
        "            outputs = model(**batch)\n",
        "\n",
        "        predictions = torch.argmax(outputs[\"output\"], dim=1)\n",
        "        references = torch.argmax(outputs[\"labels\"], dim=-1)\n",
        "\n",
        "        for metric in metrics:\n",
        "            metric.add_batch(predictions=predictions, references=references)\n",
        "\n",
        "        progress_bar.update(1)\n",
        "\n",
        "    for metric in metrics:\n",
        "        print(metric.compute())"
      ]
    },
    {
      "cell_type": "markdown",
      "metadata": {
        "id": "Ec0EgjvYPsn7"
      },
      "source": [
        "Evaluate the model to assess its performance in correctly classifying partial parses."
      ]
    },
    {
      "cell_type": "code",
      "execution_count": null,
      "metadata": {
        "id": "1_E5EOLcLOp7",
        "colab": {
          "base_uri": "https://localhost:8080/",
          "height": 83,
          "referenced_widgets": [
            "7c37076ff75140259a73794afa30a9e0",
            "86c826ea50004e8bba97875462f63681",
            "d6c1c273afc64ff7bf57e5a093d0591a",
            "63d5288a434744f29e9ab02222bef6fa",
            "fcd81d8868204694a2edd3fcf133f855",
            "ad20def46832437692dda7ebd30704cf",
            "a509279963a24fb1829bea770619c67b",
            "1b890f28fe88491cbfbaf5fdddbe00c1",
            "4a45611e773e44afaa654d86d5dad944",
            "d5dfb08181a64b66aaa209cef711110c",
            "b4b1b7fdb20141948a3f56e4d167e3e9"
          ]
        },
        "outputId": "f5ff2003-08cf-435f-ab27-d990532aa244"
      },
      "outputs": [
        {
          "output_type": "stream",
          "name": "stdout",
          "text": [
            "evaluation: \n"
          ]
        },
        {
          "output_type": "display_data",
          "data": {
            "text/plain": [
              "  0%|          | 0/443 [00:00<?, ?it/s]"
            ],
            "application/vnd.jupyter.widget-view+json": {
              "version_major": 2,
              "version_minor": 0,
              "model_id": "7c37076ff75140259a73794afa30a9e0"
            }
          },
          "metadata": {
            "application/vnd.jupyter.widget-view+json": {
              "colab": {
                "custom_widget_manager": {
                  "url": "https://ssl.gstatic.com/colaboratory-static/widgets/colab-cdn-widget-manager/2b70e893a8ba7c0f/manager.min.js"
                }
              }
            }
          }
        },
        {
          "output_type": "stream",
          "name": "stdout",
          "text": [
            "{'accuracy': 0.8960767357311779}\n"
          ]
        }
      ],
      "source": [
        "metrics = [\"accuracy\"]\n",
        "evaluate(model, test_dataloader, metrics)"
      ]
    },
    {
      "cell_type": "markdown",
      "metadata": {
        "id": "ngVD-J-iLZUZ"
      },
      "source": [
        "# Part 3: Evaluation and Visualization\n"
      ]
    },
    {
      "cell_type": "markdown",
      "metadata": {
        "id": "KTCqTkM_8kKJ"
      },
      "source": [
        "### 1. `is_possible`\n",
        "`is_possible` returns whether an action (arc or shift) is possible given the current stack and buffer. This will be used in `get_action` (see below) to start training an oracle using machine learning."
      ]
    },
    {
      "cell_type": "code",
      "execution_count": null,
      "metadata": {
        "id": "rkiPf0cVHJMz"
      },
      "outputs": [],
      "source": [
        "def is_possible(action: int, stack: list[int], buf: list[int]) -> bool:\n",
        "    \"\"\"\n",
        "    Function that determines if a given action is possible given the current stack\n",
        "    and buffer state. Remember that `stack` and `buf` contain the indices of words in\n",
        "    an example sentence, where an index of None represents the root.\n",
        "\n",
        "    Think carefully about this function; it is likely to be a source of errors.\n",
        "    Work through the example in the slides and try to replicate that logic here.\n",
        "    Be particularly careful with the root (None). Can anything be the head of\n",
        "    root? Should we ever perform an arc with the root while there are still words\n",
        "    in the buffer?\n",
        "\n",
        "    Remember that at the beginning of the shift-reduce algorithm,\n",
        "    stack and buf will look like:\n",
        "        stack = [None]\n",
        "        buf = [0, 1, 2, ...]\n",
        "\n",
        "    Parameters\n",
        "    ----------\n",
        "    action : int\n",
        "        the action we want to know is possible\n",
        "        0 -> arc left\n",
        "        1 -> arc right\n",
        "        2 -> shift\n",
        "    stack : list[int]\n",
        "        the shift-reduce stack\n",
        "    buf : list[int]\n",
        "        the shift-reduce buffer\n",
        "\n",
        "    Returns\n",
        "    -------\n",
        "    bool\n",
        "        whether or not the given action is possible\n",
        "    \"\"\"\n",
        "\n",
        "    if action == 2:\n",
        "      if len(buf) == 0:\n",
        "        return False\n",
        "      else:\n",
        "        return True\n",
        "    elif action == 0:\n",
        "      if len(stack) == 1:\n",
        "        return False\n",
        "      elif len(stack) == 2:\n",
        "        return False\n",
        "      else:\n",
        "        return True\n",
        "    elif action == 1:\n",
        "      if len(stack) == 1:\n",
        "        return False\n",
        "      elif stack[-2] == None:\n",
        "        if len(buf) == 0:\n",
        "          return True\n",
        "        else:\n",
        "          return False\n",
        "      else:\n",
        "        return True"
      ]
    },
    {
      "cell_type": "markdown",
      "metadata": {
        "id": "g1l1Gh1J-hyS"
      },
      "source": [
        "### 2. `get_action`\n",
        "\n",
        "This function takes in the classifier's prediction (in the form of a tensor) and outputs the corresponding action."
      ]
    },
    {
      "cell_type": "code",
      "execution_count": null,
      "metadata": {
        "id": "lt9DQWd70ZXu"
      },
      "outputs": [],
      "source": [
        "def get_action(pred: torch.DoubleTensor,\n",
        "               stack: list[int],\n",
        "               buf: list[int]\n",
        "               ) -> int | None:\n",
        "    \"\"\"\n",
        "    Function that takes a prediction (Tensor) and finds the highest probability\n",
        "    action that is possible.\n",
        "\n",
        "    Parameters\n",
        "    ----------\n",
        "    pred : torch.DoubleTensor\n",
        "        our classifier's prediction, the \"output\" field of a torch.nn.Module (such\n",
        "        as our model)\n",
        "    stack : list[int]\n",
        "        the shift-reduce stack\n",
        "    buf : list[int]\n",
        "        the shift-reduce buffer\n",
        "\n",
        "    Returns\n",
        "    -------\n",
        "    int | None: {None, 0, 1, 2}\n",
        "        the predicted action.\n",
        "        None -> predicted action is not possible\n",
        "        0 -> arc left\n",
        "        1 -> arc right\n",
        "        2 -> shift\n",
        "    \"\"\"\n",
        "\n",
        "    action = torch.argmax(pred)\n",
        "    if is_possible(action, stack, buf):\n",
        "      return action\n",
        "    else:\n",
        "      return None"
      ]
    },
    {
      "cell_type": "markdown",
      "metadata": {
        "id": "9h6m8SC79DWu"
      },
      "source": [
        "### 3. `model_shift_reduce`\n",
        "Here, I define a version of shift-reduce that consults an SRClassifier, rather than the oracle from Part 1, in order to determine which actions to apply."
      ]
    },
    {
      "cell_type": "code",
      "execution_count": null,
      "metadata": {
        "id": "05sUoBHa9ruW"
      },
      "outputs": [],
      "source": [
        "def model_shift_reduce(model: torch.nn.Module,\n",
        "                       example: dict[str, Any],\n",
        "                       vocab: dict[str, int]\n",
        "                       ) -> list[tuple[int, int]]:\n",
        "    \"\"\"\n",
        "    Function that uses our trained classifier to execute the shift-reduce algorithm\n",
        "    and returns the final list of arcs.\n",
        "    NOTE: You will have to cast the output of `get_features()` to a tensor and\n",
        "    load it onto the GPU. You can do this using `torch.tensor(...).to(device)`\n",
        "    or `torch.tensor(..., device=device)`. Note that `device` was defined a few\n",
        "    cells up, when we instantiated our model.\n",
        "\n",
        "    Parameters\n",
        "    ----------\n",
        "    model : torch.nn.Module\n",
        "        our trained classifier to use for shift-reduce\n",
        "    example : dict[str, Any]\n",
        "        a training example produced by read_conll\n",
        "    vocab : dict[str, int]\n",
        "        our vocabulary\n",
        "\n",
        "    Returns\n",
        "    -------\n",
        "    list[tuple[int, int]]\n",
        "        the arcs of the dependency parse tree\n",
        "    \"\"\"\n",
        "\n",
        "    # init stack, buf, arcs\n",
        "    stack = [None]\n",
        "    buf = []\n",
        "    for i in range(len(example[\"words\"])):\n",
        "      buf.append(i)\n",
        "    arcs = []\n",
        "\n",
        "    while len(buf) > 0 or len(stack) > 1:\n",
        "      features = get_features(stack, buf, example[\"words\"], vocab, is_test=True)\n",
        "      features = torch.tensor(features).to(device)\n",
        "      features = features.unsqueeze(0)\n",
        "      pred = model(features)[\"output\"]\n",
        "      action = get_action(pred, stack, buf)\n",
        "\n",
        "      if action != None:\n",
        "        stack, buf, arcs = apply_action(stack, buf, arcs, action)\n",
        "      else:\n",
        "        break\n",
        "    return arcs"
      ]
    },
    {
      "cell_type": "markdown",
      "metadata": {
        "id": "vsdMfwwHMWgK"
      },
      "source": [
        "### 4. `evaluate_UAS`\n",
        "Now that we can directly compare the true parse to the model's parse, we can tackle evaluating the UAS. To evaluate UAS, we first compute both the correct and predicted parses for each sentence in the testing set and then find the number of arcs in common divided by the number of total arcs. Then, we average these scores across all sentences in the testing set, and output the result as the UAS of the model on the testing set.\n",
        "\n",
        "$$n: \\text{the total number of example parses}$$\n",
        "$$M_i: \\text{the set of our model's predicted arcs for example }i$$\n",
        "$$O_i: \\text{the set of the oracle's predicted arcs for example }i$$\n",
        "$$\\text{UAS} = \\frac{1}{n} \\sum_{i=1}^n \\frac{|M_i \\cap O_i|}{|O_i|}$$"
      ]
    },
    {
      "cell_type": "code",
      "execution_count": null,
      "metadata": {
        "id": "YpOAq6k3Lj0m"
      },
      "outputs": [],
      "source": [
        "def evaluate_UAS(model: torch.nn.Module,\n",
        "                 test_examples: list[dict[str, Any]],\n",
        "                 vocab: dict[str, int]\n",
        "                 ) -> float:\n",
        "    \"\"\"\n",
        "    Function that calculates UAS.\n",
        "\n",
        "    Parameters\n",
        "    ----------\n",
        "    model : torch.nn.Module\n",
        "        our trained classifier\n",
        "    test_examples : list[dict[str, Any]]\n",
        "        test examples loaded with read_conll\n",
        "    vocab : dict[str, int]\n",
        "        our word2id vocabulary\n",
        "\n",
        "    Returns\n",
        "    -------\n",
        "    float\n",
        "        UAS of the classifier on test_examples\n",
        "    \"\"\"\n",
        "\n",
        "    total_correct = 0\n",
        "    total_arcs = 0\n",
        "    for example in test_examples:\n",
        "      _, _, true_arcs = oracle_shift_reduce(example, vocab, is_test=True)\n",
        "      model_arcs = model_shift_reduce(model, example, vocab)\n",
        "      total_correct += len(set(true_arcs) & set(model_arcs))\n",
        "      total_arcs += len(true_arcs)\n",
        "    return total_correct / total_arcs\n"
      ]
    },
    {
      "cell_type": "markdown",
      "metadata": {
        "id": "TUCojOEDMvhg"
      },
      "source": [
        "#### Baseline UAS\n",
        "The baseline model should output something of the same format as the `SRClassifier`, except it just outputs a tensor with randomly ordered values."
      ]
    },
    {
      "cell_type": "code",
      "execution_count": null,
      "metadata": {
        "id": "5LyVbJEEdPji"
      },
      "outputs": [],
      "source": [
        "class SRBaseline(torch.nn.Module):\n",
        "    def __init__(self) -> None:\n",
        "        super(SRBaseline, self).__init__()\n",
        "\n",
        "    def forward(self, inputs: Any) -> dict[str, torch.Tensor]:\n",
        "        return {\"output\": torch.randperm(3)[None, :]}"
      ]
    },
    {
      "cell_type": "markdown",
      "metadata": {
        "id": "xTShIFtxNNOQ"
      },
      "source": [
        "### 5. Final Scoring\n",
        "Evaluate the baseline UAS and compare it to that of the trained model.\n"
      ]
    },
    {
      "cell_type": "code",
      "execution_count": null,
      "metadata": {
        "id": "tYWhgrbfNWqR",
        "colab": {
          "base_uri": "https://localhost:8080/",
          "height": 34
        },
        "outputId": "99daad4e-2387-4573-da25-4ffa1e256e08"
      },
      "outputs": [
        {
          "output_type": "stream",
          "name": "stdout",
          "text": [
            "Model UAS: 0.6885063559322034, baseline: 0.003972457627118644\n"
          ]
        }
      ],
      "source": [
        "model_uas = evaluate_UAS(model, test_data, vocabulary)\n",
        "baseline_model = SRClassifier(len(vocabulary), 3)\n",
        "baseline_uas = evaluate_UAS(baseline_model, test_data, vocabulary)\n",
        "print(f\"Model UAS: {model_uas}, baseline: {baseline_uas}\")"
      ]
    },
    {
      "cell_type": "code",
      "execution_count": null,
      "metadata": {
        "id": "PDSsoEAL59a5"
      },
      "outputs": [],
      "source": [
        "import spacy\n",
        "from spacy import displacy\n",
        "from spacy.displacy.render import DependencyRenderer\n",
        "from IPython.core.display import display, HTML\n",
        "\n",
        "def reformat_dep(arcs: list[tuple[int, int]],\n",
        "                 words: list[str]\n",
        "                 ) -> tuple[list[str], list[int]]:\n",
        "    \"\"\"\n",
        "    Function that takes in a set of arcs and produces a list of heads,\n",
        "    in the same format we described at the beginning.\n",
        "\n",
        "    Parameters\n",
        "    ----------\n",
        "    arcs : list[tuple[int, int]]\n",
        "        a list of arcs returned by model_shift_reduce\n",
        "    words : list[str]\n",
        "        a list of words from a testing example\n",
        "\n",
        "    Returns\n",
        "    -------\n",
        "    tuple[list[str], list[int]]\n",
        "        the words parameters and the list of heads\n",
        "    \"\"\"\n",
        "    heads = list(range(len(words)))\n",
        "    for arc in arcs:\n",
        "        heads[arc[1]] = arc[0]\n",
        "    return words, heads\n",
        "\n",
        "def parse_for_displacy(doc: list[str], heads: list[int]) -> dict[str, Any]:\n",
        "    \"\"\"\n",
        "    Function that takes in a sentence and a list of heads and reformats them into\n",
        "    something that can be rendered using displacy.\n",
        "\n",
        "    Parameters\n",
        "    ----------\n",
        "    doc : list[str]\n",
        "        a list of words in a sentence\n",
        "    heads : list[int]\n",
        "        a list of indices indexing `doc` that represent the head of each word\n",
        "\n",
        "    Returns\n",
        "    -------\n",
        "    dict[str, Any]\n",
        "        the parsed sentence in a format friendly to displacy\n",
        "    \"\"\"\n",
        "    # doc = [\"word1\", \"word2\", ...]\n",
        "    # heads = [idx_of_head_of_word1, idx_of_head_of_word2, ...]\n",
        "    settings = {\n",
        "        \"lang\": \"en\",\n",
        "        \"direction\": \"ltr\",\n",
        "    }\n",
        "    words = [\n",
        "        {\n",
        "            \"text\": w, # w.text,\n",
        "            \"tag\": \"\", # w.tag_ if fine_grained else w.pos_,\n",
        "            \"lemma\": w # w.lemma_ if add_lemma else None,\n",
        "        }\n",
        "        for w in doc\n",
        "    ]\n",
        "    arcs = []\n",
        "    for i,word in enumerate(doc):\n",
        "        if heads[i] == None:\n",
        "            continue\n",
        "        if i < heads[i]:\n",
        "            arcs.append({\"start\": i, \"end\": heads[i], \"label\": '', \"dir\": \"left\"})\n",
        "        elif i > heads[i]:\n",
        "            arcs.append({\n",
        "                \"start\": heads[i],\n",
        "                \"end\": i,\n",
        "                \"label\": \"\",\n",
        "                \"dir\": \"right\",\n",
        "              })\n",
        "    return {\"words\": words, \"arcs\": arcs, \"settings\": settings}\n",
        "\n",
        "def display_parse(arcs: list[tuple[int, int]], words: list[str]) -> None:\n",
        "    \"\"\"\n",
        "    Function that renders and displays a parsed sentence.\n",
        "\n",
        "    Parameters\n",
        "    ----------\n",
        "    arcs : list[tuple[int, int]]\n",
        "        the final set of arcs returned by our shift-reduce algorithm\n",
        "    words : list[str]\n",
        "        the words that `arcs` connects\n",
        "\n",
        "    Returns\n",
        "    -------\n",
        "    None\n",
        "    \"\"\"\n",
        "    parsed = [parse_for_displacy(*reformat_dep(arcs, words))]\n",
        "    renderer = DependencyRenderer()\n",
        "    html = renderer.render(parsed, page=False, minify=False).strip()\n",
        "    display(HTML('<span class=\"tex2jax_ignore\">{}</span>'.format(html)))"
      ]
    },
    {
      "cell_type": "markdown",
      "metadata": {
        "id": "E_EIFr2hOc5D"
      },
      "source": [
        "Below is an example of comparing the true parse and the model's parse, where we try to parse the sentence \"I prefer the morning flight through Denver.\". Note that punctuation is treated as its own token here.\n",
        "\n",
        "Here is a brief summary of how you need to format punctuation and contractions in your own examples **such that they're in the same format** as the training/testing data we used previously:\n",
        "\n",
        "`\"weren't\" -> [\"were\", \"n't\"]`\n",
        "\n",
        "`\"Stock Market's\" -> [\"Stock\", \"Market\", \"'s\"]`\n",
        "\n",
        "`[\"'quoted text'\"] -> [\"``\", \"quoted\", \"text\", \"''\"]`\n",
        "\n",
        "`[\"22%\"] -> [\"22\", \"%\"]`\n",
        "\n",
        "`[\"$15\"] -> [\"$\", \"15\"]`\n",
        "\n",
        "Feel free to download `train.conll` or `test.conll` and take a peek at how the examples are tokenized.\n",
        "\n",
        "Additionally, we didn't do any lowercasing on the dataset, since it actually slightly harms performance on this task (think about why it might!). Therefore, you too shouldn't do lowercasing when trying out your own sentences (see that \"Denver\" stays capitalized)."
      ]
    },
    {
      "cell_type": "code",
      "execution_count": null,
      "metadata": {
        "id": "mhSWmkjX7gkj",
        "colab": {
          "base_uri": "https://localhost:8080/",
          "height": 1000
        },
        "outputId": "9157920c-f729-4557-aa58-194e092640e3"
      },
      "outputs": [
        {
          "output_type": "stream",
          "name": "stdout",
          "text": [
            "Predicted parse:\n"
          ]
        },
        {
          "output_type": "display_data",
          "data": {
            "text/plain": [
              "<IPython.core.display.HTML object>"
            ],
            "text/html": [
              "<span class=\"tex2jax_ignore\"><svg xmlns=\"http://www.w3.org/2000/svg\" xmlns:xlink=\"http://www.w3.org/1999/xlink\" xml:lang=\"en\" id=\"8d6152e1dcd84ed080253881e240810f-0\" class=\"displacy\" width=\"1450\" height=\"574.5\" direction=\"ltr\" style=\"max-width: none; height: 574.5px; color: #000000; background: #ffffff; font-family: Arial; direction: ltr\">\n",
              "<text class=\"displacy-token\" fill=\"currentColor\" text-anchor=\"middle\" y=\"484.5\">\n",
              "    <tspan class=\"displacy-word\" fill=\"currentColor\" x=\"50\">I</tspan>\n",
              "    <tspan class=\"displacy-lemma\" dy=\"2em\" fill=\"currentColor\" x=\"50\">I</tspan>\n",
              "    <tspan class=\"displacy-tag\" dy=\"2em\" fill=\"currentColor\" x=\"50\"></tspan>\n",
              "</text>\n",
              "\n",
              "<text class=\"displacy-token\" fill=\"currentColor\" text-anchor=\"middle\" y=\"484.5\">\n",
              "    <tspan class=\"displacy-word\" fill=\"currentColor\" x=\"225\">prefer</tspan>\n",
              "    <tspan class=\"displacy-lemma\" dy=\"2em\" fill=\"currentColor\" x=\"225\">prefer</tspan>\n",
              "    <tspan class=\"displacy-tag\" dy=\"2em\" fill=\"currentColor\" x=\"225\"></tspan>\n",
              "</text>\n",
              "\n",
              "<text class=\"displacy-token\" fill=\"currentColor\" text-anchor=\"middle\" y=\"484.5\">\n",
              "    <tspan class=\"displacy-word\" fill=\"currentColor\" x=\"400\">the</tspan>\n",
              "    <tspan class=\"displacy-lemma\" dy=\"2em\" fill=\"currentColor\" x=\"400\">the</tspan>\n",
              "    <tspan class=\"displacy-tag\" dy=\"2em\" fill=\"currentColor\" x=\"400\"></tspan>\n",
              "</text>\n",
              "\n",
              "<text class=\"displacy-token\" fill=\"currentColor\" text-anchor=\"middle\" y=\"484.5\">\n",
              "    <tspan class=\"displacy-word\" fill=\"currentColor\" x=\"575\">morning</tspan>\n",
              "    <tspan class=\"displacy-lemma\" dy=\"2em\" fill=\"currentColor\" x=\"575\">morning</tspan>\n",
              "    <tspan class=\"displacy-tag\" dy=\"2em\" fill=\"currentColor\" x=\"575\"></tspan>\n",
              "</text>\n",
              "\n",
              "<text class=\"displacy-token\" fill=\"currentColor\" text-anchor=\"middle\" y=\"484.5\">\n",
              "    <tspan class=\"displacy-word\" fill=\"currentColor\" x=\"750\">flight</tspan>\n",
              "    <tspan class=\"displacy-lemma\" dy=\"2em\" fill=\"currentColor\" x=\"750\">flight</tspan>\n",
              "    <tspan class=\"displacy-tag\" dy=\"2em\" fill=\"currentColor\" x=\"750\"></tspan>\n",
              "</text>\n",
              "\n",
              "<text class=\"displacy-token\" fill=\"currentColor\" text-anchor=\"middle\" y=\"484.5\">\n",
              "    <tspan class=\"displacy-word\" fill=\"currentColor\" x=\"925\">through</tspan>\n",
              "    <tspan class=\"displacy-lemma\" dy=\"2em\" fill=\"currentColor\" x=\"925\">through</tspan>\n",
              "    <tspan class=\"displacy-tag\" dy=\"2em\" fill=\"currentColor\" x=\"925\"></tspan>\n",
              "</text>\n",
              "\n",
              "<text class=\"displacy-token\" fill=\"currentColor\" text-anchor=\"middle\" y=\"484.5\">\n",
              "    <tspan class=\"displacy-word\" fill=\"currentColor\" x=\"1100\">Denver</tspan>\n",
              "    <tspan class=\"displacy-lemma\" dy=\"2em\" fill=\"currentColor\" x=\"1100\">Denver</tspan>\n",
              "    <tspan class=\"displacy-tag\" dy=\"2em\" fill=\"currentColor\" x=\"1100\"></tspan>\n",
              "</text>\n",
              "\n",
              "<text class=\"displacy-token\" fill=\"currentColor\" text-anchor=\"middle\" y=\"484.5\">\n",
              "    <tspan class=\"displacy-word\" fill=\"currentColor\" x=\"1275\">.</tspan>\n",
              "    <tspan class=\"displacy-lemma\" dy=\"2em\" fill=\"currentColor\" x=\"1275\">.</tspan>\n",
              "    <tspan class=\"displacy-tag\" dy=\"2em\" fill=\"currentColor\" x=\"1275\"></tspan>\n",
              "</text>\n",
              "\n",
              "<g class=\"displacy-arrow\">\n",
              "    <path class=\"displacy-arc\" id=\"arrow-8d6152e1dcd84ed080253881e240810f-0-0\" stroke-width=\"2px\" d=\"M70,439.5 C70,352.0 205.0,352.0 205.0,439.5\" fill=\"none\" stroke=\"currentColor\"/>\n",
              "    <text dy=\"1.25em\" style=\"font-size: 0.8em; letter-spacing: 1px\">\n",
              "        <textPath xlink:href=\"#arrow-8d6152e1dcd84ed080253881e240810f-0-0\" class=\"displacy-label\" startOffset=\"50%\" side=\"left\" fill=\"currentColor\" text-anchor=\"middle\"></textPath>\n",
              "    </text>\n",
              "    <path class=\"displacy-arrowhead\" d=\"M70,441.5 L62,429.5 78,429.5\" fill=\"currentColor\"/>\n",
              "</g>\n",
              "\n",
              "<g class=\"displacy-arrow\">\n",
              "    <path class=\"displacy-arc\" id=\"arrow-8d6152e1dcd84ed080253881e240810f-0-1\" stroke-width=\"2px\" d=\"M420,439.5 C420,264.5 735.0,264.5 735.0,439.5\" fill=\"none\" stroke=\"currentColor\"/>\n",
              "    <text dy=\"1.25em\" style=\"font-size: 0.8em; letter-spacing: 1px\">\n",
              "        <textPath xlink:href=\"#arrow-8d6152e1dcd84ed080253881e240810f-0-1\" class=\"displacy-label\" startOffset=\"50%\" side=\"left\" fill=\"currentColor\" text-anchor=\"middle\"></textPath>\n",
              "    </text>\n",
              "    <path class=\"displacy-arrowhead\" d=\"M420,441.5 L412,429.5 428,429.5\" fill=\"currentColor\"/>\n",
              "</g>\n",
              "\n",
              "<g class=\"displacy-arrow\">\n",
              "    <path class=\"displacy-arc\" id=\"arrow-8d6152e1dcd84ed080253881e240810f-0-2\" stroke-width=\"2px\" d=\"M595,439.5 C595,352.0 730.0,352.0 730.0,439.5\" fill=\"none\" stroke=\"currentColor\"/>\n",
              "    <text dy=\"1.25em\" style=\"font-size: 0.8em; letter-spacing: 1px\">\n",
              "        <textPath xlink:href=\"#arrow-8d6152e1dcd84ed080253881e240810f-0-2\" class=\"displacy-label\" startOffset=\"50%\" side=\"left\" fill=\"currentColor\" text-anchor=\"middle\"></textPath>\n",
              "    </text>\n",
              "    <path class=\"displacy-arrowhead\" d=\"M595,441.5 L587,429.5 603,429.5\" fill=\"currentColor\"/>\n",
              "</g>\n",
              "\n",
              "<g class=\"displacy-arrow\">\n",
              "    <path class=\"displacy-arc\" id=\"arrow-8d6152e1dcd84ed080253881e240810f-0-3\" stroke-width=\"2px\" d=\"M245,439.5 C245,177.0 740.0,177.0 740.0,439.5\" fill=\"none\" stroke=\"currentColor\"/>\n",
              "    <text dy=\"1.25em\" style=\"font-size: 0.8em; letter-spacing: 1px\">\n",
              "        <textPath xlink:href=\"#arrow-8d6152e1dcd84ed080253881e240810f-0-3\" class=\"displacy-label\" startOffset=\"50%\" side=\"left\" fill=\"currentColor\" text-anchor=\"middle\"></textPath>\n",
              "    </text>\n",
              "    <path class=\"displacy-arrowhead\" d=\"M740.0,441.5 L748.0,429.5 732.0,429.5\" fill=\"currentColor\"/>\n",
              "</g>\n",
              "\n",
              "<g class=\"displacy-arrow\">\n",
              "    <path class=\"displacy-arc\" id=\"arrow-8d6152e1dcd84ed080253881e240810f-0-4\" stroke-width=\"2px\" d=\"M945,439.5 C945,352.0 1080.0,352.0 1080.0,439.5\" fill=\"none\" stroke=\"currentColor\"/>\n",
              "    <text dy=\"1.25em\" style=\"font-size: 0.8em; letter-spacing: 1px\">\n",
              "        <textPath xlink:href=\"#arrow-8d6152e1dcd84ed080253881e240810f-0-4\" class=\"displacy-label\" startOffset=\"50%\" side=\"left\" fill=\"currentColor\" text-anchor=\"middle\"></textPath>\n",
              "    </text>\n",
              "    <path class=\"displacy-arrowhead\" d=\"M945,441.5 L937,429.5 953,429.5\" fill=\"currentColor\"/>\n",
              "</g>\n",
              "\n",
              "<g class=\"displacy-arrow\">\n",
              "    <path class=\"displacy-arc\" id=\"arrow-8d6152e1dcd84ed080253881e240810f-0-5\" stroke-width=\"2px\" d=\"M245,439.5 C245,89.5 1095.0,89.5 1095.0,439.5\" fill=\"none\" stroke=\"currentColor\"/>\n",
              "    <text dy=\"1.25em\" style=\"font-size: 0.8em; letter-spacing: 1px\">\n",
              "        <textPath xlink:href=\"#arrow-8d6152e1dcd84ed080253881e240810f-0-5\" class=\"displacy-label\" startOffset=\"50%\" side=\"left\" fill=\"currentColor\" text-anchor=\"middle\"></textPath>\n",
              "    </text>\n",
              "    <path class=\"displacy-arrowhead\" d=\"M1095.0,441.5 L1103.0,429.5 1087.0,429.5\" fill=\"currentColor\"/>\n",
              "</g>\n",
              "\n",
              "<g class=\"displacy-arrow\">\n",
              "    <path class=\"displacy-arc\" id=\"arrow-8d6152e1dcd84ed080253881e240810f-0-6\" stroke-width=\"2px\" d=\"M245,439.5 C245,2.0 1275.0,2.0 1275.0,439.5\" fill=\"none\" stroke=\"currentColor\"/>\n",
              "    <text dy=\"1.25em\" style=\"font-size: 0.8em; letter-spacing: 1px\">\n",
              "        <textPath xlink:href=\"#arrow-8d6152e1dcd84ed080253881e240810f-0-6\" class=\"displacy-label\" startOffset=\"50%\" side=\"left\" fill=\"currentColor\" text-anchor=\"middle\"></textPath>\n",
              "    </text>\n",
              "    <path class=\"displacy-arrowhead\" d=\"M1275.0,441.5 L1283.0,429.5 1267.0,429.5\" fill=\"currentColor\"/>\n",
              "</g>\n",
              "</svg></span>"
            ]
          },
          "metadata": {}
        },
        {
          "output_type": "stream",
          "name": "stdout",
          "text": [
            "Actual parse:\n"
          ]
        },
        {
          "output_type": "display_data",
          "data": {
            "text/plain": [
              "<IPython.core.display.HTML object>"
            ],
            "text/html": [
              "<span class=\"tex2jax_ignore\"><svg xmlns=\"http://www.w3.org/2000/svg\" xmlns:xlink=\"http://www.w3.org/1999/xlink\" xml:lang=\"en\" id=\"538f1eb9c3e442aa8ed2aa8007d2e2ca-0\" class=\"displacy\" width=\"1450\" height=\"487.0\" direction=\"ltr\" style=\"max-width: none; height: 487.0px; color: #000000; background: #ffffff; font-family: Arial; direction: ltr\">\n",
              "<text class=\"displacy-token\" fill=\"currentColor\" text-anchor=\"middle\" y=\"397.0\">\n",
              "    <tspan class=\"displacy-word\" fill=\"currentColor\" x=\"50\">I</tspan>\n",
              "    <tspan class=\"displacy-lemma\" dy=\"2em\" fill=\"currentColor\" x=\"50\">I</tspan>\n",
              "    <tspan class=\"displacy-tag\" dy=\"2em\" fill=\"currentColor\" x=\"50\"></tspan>\n",
              "</text>\n",
              "\n",
              "<text class=\"displacy-token\" fill=\"currentColor\" text-anchor=\"middle\" y=\"397.0\">\n",
              "    <tspan class=\"displacy-word\" fill=\"currentColor\" x=\"225\">prefer</tspan>\n",
              "    <tspan class=\"displacy-lemma\" dy=\"2em\" fill=\"currentColor\" x=\"225\">prefer</tspan>\n",
              "    <tspan class=\"displacy-tag\" dy=\"2em\" fill=\"currentColor\" x=\"225\"></tspan>\n",
              "</text>\n",
              "\n",
              "<text class=\"displacy-token\" fill=\"currentColor\" text-anchor=\"middle\" y=\"397.0\">\n",
              "    <tspan class=\"displacy-word\" fill=\"currentColor\" x=\"400\">the</tspan>\n",
              "    <tspan class=\"displacy-lemma\" dy=\"2em\" fill=\"currentColor\" x=\"400\">the</tspan>\n",
              "    <tspan class=\"displacy-tag\" dy=\"2em\" fill=\"currentColor\" x=\"400\"></tspan>\n",
              "</text>\n",
              "\n",
              "<text class=\"displacy-token\" fill=\"currentColor\" text-anchor=\"middle\" y=\"397.0\">\n",
              "    <tspan class=\"displacy-word\" fill=\"currentColor\" x=\"575\">morning</tspan>\n",
              "    <tspan class=\"displacy-lemma\" dy=\"2em\" fill=\"currentColor\" x=\"575\">morning</tspan>\n",
              "    <tspan class=\"displacy-tag\" dy=\"2em\" fill=\"currentColor\" x=\"575\"></tspan>\n",
              "</text>\n",
              "\n",
              "<text class=\"displacy-token\" fill=\"currentColor\" text-anchor=\"middle\" y=\"397.0\">\n",
              "    <tspan class=\"displacy-word\" fill=\"currentColor\" x=\"750\">flight</tspan>\n",
              "    <tspan class=\"displacy-lemma\" dy=\"2em\" fill=\"currentColor\" x=\"750\">flight</tspan>\n",
              "    <tspan class=\"displacy-tag\" dy=\"2em\" fill=\"currentColor\" x=\"750\"></tspan>\n",
              "</text>\n",
              "\n",
              "<text class=\"displacy-token\" fill=\"currentColor\" text-anchor=\"middle\" y=\"397.0\">\n",
              "    <tspan class=\"displacy-word\" fill=\"currentColor\" x=\"925\">through</tspan>\n",
              "    <tspan class=\"displacy-lemma\" dy=\"2em\" fill=\"currentColor\" x=\"925\">through</tspan>\n",
              "    <tspan class=\"displacy-tag\" dy=\"2em\" fill=\"currentColor\" x=\"925\"></tspan>\n",
              "</text>\n",
              "\n",
              "<text class=\"displacy-token\" fill=\"currentColor\" text-anchor=\"middle\" y=\"397.0\">\n",
              "    <tspan class=\"displacy-word\" fill=\"currentColor\" x=\"1100\">Denver</tspan>\n",
              "    <tspan class=\"displacy-lemma\" dy=\"2em\" fill=\"currentColor\" x=\"1100\">Denver</tspan>\n",
              "    <tspan class=\"displacy-tag\" dy=\"2em\" fill=\"currentColor\" x=\"1100\"></tspan>\n",
              "</text>\n",
              "\n",
              "<text class=\"displacy-token\" fill=\"currentColor\" text-anchor=\"middle\" y=\"397.0\">\n",
              "    <tspan class=\"displacy-word\" fill=\"currentColor\" x=\"1275\">.</tspan>\n",
              "    <tspan class=\"displacy-lemma\" dy=\"2em\" fill=\"currentColor\" x=\"1275\">.</tspan>\n",
              "    <tspan class=\"displacy-tag\" dy=\"2em\" fill=\"currentColor\" x=\"1275\"></tspan>\n",
              "</text>\n",
              "\n",
              "<g class=\"displacy-arrow\">\n",
              "    <path class=\"displacy-arc\" id=\"arrow-538f1eb9c3e442aa8ed2aa8007d2e2ca-0-0\" stroke-width=\"2px\" d=\"M70,352.0 C70,264.5 210.0,264.5 210.0,352.0\" fill=\"none\" stroke=\"currentColor\"/>\n",
              "    <text dy=\"1.25em\" style=\"font-size: 0.8em; letter-spacing: 1px\">\n",
              "        <textPath xlink:href=\"#arrow-538f1eb9c3e442aa8ed2aa8007d2e2ca-0-0\" class=\"displacy-label\" startOffset=\"50%\" side=\"left\" fill=\"currentColor\" text-anchor=\"middle\"></textPath>\n",
              "    </text>\n",
              "    <path class=\"displacy-arrowhead\" d=\"M70,354.0 L62,342.0 78,342.0\" fill=\"currentColor\"/>\n",
              "</g>\n",
              "\n",
              "<g class=\"displacy-arrow\">\n",
              "    <path class=\"displacy-arc\" id=\"arrow-538f1eb9c3e442aa8ed2aa8007d2e2ca-0-1\" stroke-width=\"2px\" d=\"M420,352.0 C420,177.0 740.0,177.0 740.0,352.0\" fill=\"none\" stroke=\"currentColor\"/>\n",
              "    <text dy=\"1.25em\" style=\"font-size: 0.8em; letter-spacing: 1px\">\n",
              "        <textPath xlink:href=\"#arrow-538f1eb9c3e442aa8ed2aa8007d2e2ca-0-1\" class=\"displacy-label\" startOffset=\"50%\" side=\"left\" fill=\"currentColor\" text-anchor=\"middle\"></textPath>\n",
              "    </text>\n",
              "    <path class=\"displacy-arrowhead\" d=\"M420,354.0 L412,342.0 428,342.0\" fill=\"currentColor\"/>\n",
              "</g>\n",
              "\n",
              "<g class=\"displacy-arrow\">\n",
              "    <path class=\"displacy-arc\" id=\"arrow-538f1eb9c3e442aa8ed2aa8007d2e2ca-0-2\" stroke-width=\"2px\" d=\"M595,352.0 C595,264.5 735.0,264.5 735.0,352.0\" fill=\"none\" stroke=\"currentColor\"/>\n",
              "    <text dy=\"1.25em\" style=\"font-size: 0.8em; letter-spacing: 1px\">\n",
              "        <textPath xlink:href=\"#arrow-538f1eb9c3e442aa8ed2aa8007d2e2ca-0-2\" class=\"displacy-label\" startOffset=\"50%\" side=\"left\" fill=\"currentColor\" text-anchor=\"middle\"></textPath>\n",
              "    </text>\n",
              "    <path class=\"displacy-arrowhead\" d=\"M595,354.0 L587,342.0 603,342.0\" fill=\"currentColor\"/>\n",
              "</g>\n",
              "\n",
              "<g class=\"displacy-arrow\">\n",
              "    <path class=\"displacy-arc\" id=\"arrow-538f1eb9c3e442aa8ed2aa8007d2e2ca-0-3\" stroke-width=\"2px\" d=\"M245,352.0 C245,89.5 745.0,89.5 745.0,352.0\" fill=\"none\" stroke=\"currentColor\"/>\n",
              "    <text dy=\"1.25em\" style=\"font-size: 0.8em; letter-spacing: 1px\">\n",
              "        <textPath xlink:href=\"#arrow-538f1eb9c3e442aa8ed2aa8007d2e2ca-0-3\" class=\"displacy-label\" startOffset=\"50%\" side=\"left\" fill=\"currentColor\" text-anchor=\"middle\"></textPath>\n",
              "    </text>\n",
              "    <path class=\"displacy-arrowhead\" d=\"M745.0,354.0 L753.0,342.0 737.0,342.0\" fill=\"currentColor\"/>\n",
              "</g>\n",
              "\n",
              "<g class=\"displacy-arrow\">\n",
              "    <path class=\"displacy-arc\" id=\"arrow-538f1eb9c3e442aa8ed2aa8007d2e2ca-0-4\" stroke-width=\"2px\" d=\"M945,352.0 C945,264.5 1085.0,264.5 1085.0,352.0\" fill=\"none\" stroke=\"currentColor\"/>\n",
              "    <text dy=\"1.25em\" style=\"font-size: 0.8em; letter-spacing: 1px\">\n",
              "        <textPath xlink:href=\"#arrow-538f1eb9c3e442aa8ed2aa8007d2e2ca-0-4\" class=\"displacy-label\" startOffset=\"50%\" side=\"left\" fill=\"currentColor\" text-anchor=\"middle\"></textPath>\n",
              "    </text>\n",
              "    <path class=\"displacy-arrowhead\" d=\"M945,354.0 L937,342.0 953,342.0\" fill=\"currentColor\"/>\n",
              "</g>\n",
              "\n",
              "<g class=\"displacy-arrow\">\n",
              "    <path class=\"displacy-arc\" id=\"arrow-538f1eb9c3e442aa8ed2aa8007d2e2ca-0-5\" stroke-width=\"2px\" d=\"M770,352.0 C770,177.0 1090.0,177.0 1090.0,352.0\" fill=\"none\" stroke=\"currentColor\"/>\n",
              "    <text dy=\"1.25em\" style=\"font-size: 0.8em; letter-spacing: 1px\">\n",
              "        <textPath xlink:href=\"#arrow-538f1eb9c3e442aa8ed2aa8007d2e2ca-0-5\" class=\"displacy-label\" startOffset=\"50%\" side=\"left\" fill=\"currentColor\" text-anchor=\"middle\"></textPath>\n",
              "    </text>\n",
              "    <path class=\"displacy-arrowhead\" d=\"M1090.0,354.0 L1098.0,342.0 1082.0,342.0\" fill=\"currentColor\"/>\n",
              "</g>\n",
              "\n",
              "<g class=\"displacy-arrow\">\n",
              "    <path class=\"displacy-arc\" id=\"arrow-538f1eb9c3e442aa8ed2aa8007d2e2ca-0-6\" stroke-width=\"2px\" d=\"M245,352.0 C245,2.0 1275.0,2.0 1275.0,352.0\" fill=\"none\" stroke=\"currentColor\"/>\n",
              "    <text dy=\"1.25em\" style=\"font-size: 0.8em; letter-spacing: 1px\">\n",
              "        <textPath xlink:href=\"#arrow-538f1eb9c3e442aa8ed2aa8007d2e2ca-0-6\" class=\"displacy-label\" startOffset=\"50%\" side=\"left\" fill=\"currentColor\" text-anchor=\"middle\"></textPath>\n",
              "    </text>\n",
              "    <path class=\"displacy-arrowhead\" d=\"M1275.0,354.0 L1283.0,342.0 1267.0,342.0\" fill=\"currentColor\"/>\n",
              "</g>\n",
              "</svg></span>"
            ]
          },
          "metadata": {}
        }
      ],
      "source": [
        "example = {\"words\": \"I prefer the morning flight through Denver .\".split(\" \"), \"heads\": [1, None, 4, 4, 1, 6, 4, 1]}\n",
        "\n",
        "model_arcs = model_shift_reduce(model, example, vocabulary) # get the model's parse\n",
        "_, _, true_arcs = oracle_shift_reduce(example, vocabulary, is_test=True) # get the true parse\n",
        "\n",
        "print(\"Predicted parse:\")\n",
        "display_parse(model_arcs, example[\"words\"])\n",
        "print(\"Actual parse:\")\n",
        "display_parse(true_arcs, example[\"words\"])"
      ]
    },
    {
      "cell_type": "markdown",
      "metadata": {
        "id": "kuRTnYnFRwl_"
      },
      "source": [
        "Last Updated: 7 Nov 2024"
      ]
    }
  ],
  "metadata": {
    "colab": {
      "provenance": [],
      "include_colab_link": true
    },
    "kernelspec": {
      "display_name": "Python 3",
      "name": "python3"
    },
    "language_info": {
      "name": "python"
    },
    "widgets": {
      "application/vnd.jupyter.widget-state+json": {
        "b064dbad710343aab404e48e233a68ba": {
          "model_module": "@jupyter-widgets/controls",
          "model_name": "HBoxModel",
          "model_module_version": "1.5.0",
          "state": {
            "_dom_classes": [],
            "_model_module": "@jupyter-widgets/controls",
            "_model_module_version": "1.5.0",
            "_model_name": "HBoxModel",
            "_view_count": null,
            "_view_module": "@jupyter-widgets/controls",
            "_view_module_version": "1.5.0",
            "_view_name": "HBoxView",
            "box_style": "",
            "children": [
              "IPY_MODEL_7644832cc7b44b4cb6a0a988659797fd",
              "IPY_MODEL_693e907216664295b53748252c0fc182",
              "IPY_MODEL_437905227c9e4890ba1e2adea8551cbe"
            ],
            "layout": "IPY_MODEL_7bba393594114fcd9330e95b97618502"
          }
        },
        "7644832cc7b44b4cb6a0a988659797fd": {
          "model_module": "@jupyter-widgets/controls",
          "model_name": "HTMLModel",
          "model_module_version": "1.5.0",
          "state": {
            "_dom_classes": [],
            "_model_module": "@jupyter-widgets/controls",
            "_model_module_version": "1.5.0",
            "_model_name": "HTMLModel",
            "_view_count": null,
            "_view_module": "@jupyter-widgets/controls",
            "_view_module_version": "1.5.0",
            "_view_name": "HTMLView",
            "description": "",
            "description_tooltip": null,
            "layout": "IPY_MODEL_fd22c9dca9354d938a9ca22af9287747",
            "placeholder": "​",
            "style": "IPY_MODEL_67e222e33c5049aab201ca4edebbc34c",
            "value": "100%"
          }
        },
        "693e907216664295b53748252c0fc182": {
          "model_module": "@jupyter-widgets/controls",
          "model_name": "FloatProgressModel",
          "model_module_version": "1.5.0",
          "state": {
            "_dom_classes": [],
            "_model_module": "@jupyter-widgets/controls",
            "_model_module_version": "1.5.0",
            "_model_name": "FloatProgressModel",
            "_view_count": null,
            "_view_module": "@jupyter-widgets/controls",
            "_view_module_version": "1.5.0",
            "_view_name": "ProgressView",
            "bar_style": "success",
            "description": "",
            "description_tooltip": null,
            "layout": "IPY_MODEL_d29f29f05a204b9fbd33b683fbaf8039",
            "max": 1855,
            "min": 0,
            "orientation": "horizontal",
            "style": "IPY_MODEL_c66185d5a9a541ba94dc1d250cec0133",
            "value": 1855
          }
        },
        "437905227c9e4890ba1e2adea8551cbe": {
          "model_module": "@jupyter-widgets/controls",
          "model_name": "HTMLModel",
          "model_module_version": "1.5.0",
          "state": {
            "_dom_classes": [],
            "_model_module": "@jupyter-widgets/controls",
            "_model_module_version": "1.5.0",
            "_model_name": "HTMLModel",
            "_view_count": null,
            "_view_module": "@jupyter-widgets/controls",
            "_view_module_version": "1.5.0",
            "_view_name": "HTMLView",
            "description": "",
            "description_tooltip": null,
            "layout": "IPY_MODEL_d5be8a1bc17a486da0eddcbe74ff2c5c",
            "placeholder": "​",
            "style": "IPY_MODEL_f7a6a8dba02341509d6e39ce84430303",
            "value": " 1855/1855 [03:48&lt;00:00,  9.33it/s]"
          }
        },
        "7bba393594114fcd9330e95b97618502": {
          "model_module": "@jupyter-widgets/base",
          "model_name": "LayoutModel",
          "model_module_version": "1.2.0",
          "state": {
            "_model_module": "@jupyter-widgets/base",
            "_model_module_version": "1.2.0",
            "_model_name": "LayoutModel",
            "_view_count": null,
            "_view_module": "@jupyter-widgets/base",
            "_view_module_version": "1.2.0",
            "_view_name": "LayoutView",
            "align_content": null,
            "align_items": null,
            "align_self": null,
            "border": null,
            "bottom": null,
            "display": null,
            "flex": null,
            "flex_flow": null,
            "grid_area": null,
            "grid_auto_columns": null,
            "grid_auto_flow": null,
            "grid_auto_rows": null,
            "grid_column": null,
            "grid_gap": null,
            "grid_row": null,
            "grid_template_areas": null,
            "grid_template_columns": null,
            "grid_template_rows": null,
            "height": null,
            "justify_content": null,
            "justify_items": null,
            "left": null,
            "margin": null,
            "max_height": null,
            "max_width": null,
            "min_height": null,
            "min_width": null,
            "object_fit": null,
            "object_position": null,
            "order": null,
            "overflow": null,
            "overflow_x": null,
            "overflow_y": null,
            "padding": null,
            "right": null,
            "top": null,
            "visibility": null,
            "width": null
          }
        },
        "fd22c9dca9354d938a9ca22af9287747": {
          "model_module": "@jupyter-widgets/base",
          "model_name": "LayoutModel",
          "model_module_version": "1.2.0",
          "state": {
            "_model_module": "@jupyter-widgets/base",
            "_model_module_version": "1.2.0",
            "_model_name": "LayoutModel",
            "_view_count": null,
            "_view_module": "@jupyter-widgets/base",
            "_view_module_version": "1.2.0",
            "_view_name": "LayoutView",
            "align_content": null,
            "align_items": null,
            "align_self": null,
            "border": null,
            "bottom": null,
            "display": null,
            "flex": null,
            "flex_flow": null,
            "grid_area": null,
            "grid_auto_columns": null,
            "grid_auto_flow": null,
            "grid_auto_rows": null,
            "grid_column": null,
            "grid_gap": null,
            "grid_row": null,
            "grid_template_areas": null,
            "grid_template_columns": null,
            "grid_template_rows": null,
            "height": null,
            "justify_content": null,
            "justify_items": null,
            "left": null,
            "margin": null,
            "max_height": null,
            "max_width": null,
            "min_height": null,
            "min_width": null,
            "object_fit": null,
            "object_position": null,
            "order": null,
            "overflow": null,
            "overflow_x": null,
            "overflow_y": null,
            "padding": null,
            "right": null,
            "top": null,
            "visibility": null,
            "width": null
          }
        },
        "67e222e33c5049aab201ca4edebbc34c": {
          "model_module": "@jupyter-widgets/controls",
          "model_name": "DescriptionStyleModel",
          "model_module_version": "1.5.0",
          "state": {
            "_model_module": "@jupyter-widgets/controls",
            "_model_module_version": "1.5.0",
            "_model_name": "DescriptionStyleModel",
            "_view_count": null,
            "_view_module": "@jupyter-widgets/base",
            "_view_module_version": "1.2.0",
            "_view_name": "StyleView",
            "description_width": ""
          }
        },
        "d29f29f05a204b9fbd33b683fbaf8039": {
          "model_module": "@jupyter-widgets/base",
          "model_name": "LayoutModel",
          "model_module_version": "1.2.0",
          "state": {
            "_model_module": "@jupyter-widgets/base",
            "_model_module_version": "1.2.0",
            "_model_name": "LayoutModel",
            "_view_count": null,
            "_view_module": "@jupyter-widgets/base",
            "_view_module_version": "1.2.0",
            "_view_name": "LayoutView",
            "align_content": null,
            "align_items": null,
            "align_self": null,
            "border": null,
            "bottom": null,
            "display": null,
            "flex": null,
            "flex_flow": null,
            "grid_area": null,
            "grid_auto_columns": null,
            "grid_auto_flow": null,
            "grid_auto_rows": null,
            "grid_column": null,
            "grid_gap": null,
            "grid_row": null,
            "grid_template_areas": null,
            "grid_template_columns": null,
            "grid_template_rows": null,
            "height": null,
            "justify_content": null,
            "justify_items": null,
            "left": null,
            "margin": null,
            "max_height": null,
            "max_width": null,
            "min_height": null,
            "min_width": null,
            "object_fit": null,
            "object_position": null,
            "order": null,
            "overflow": null,
            "overflow_x": null,
            "overflow_y": null,
            "padding": null,
            "right": null,
            "top": null,
            "visibility": null,
            "width": null
          }
        },
        "c66185d5a9a541ba94dc1d250cec0133": {
          "model_module": "@jupyter-widgets/controls",
          "model_name": "ProgressStyleModel",
          "model_module_version": "1.5.0",
          "state": {
            "_model_module": "@jupyter-widgets/controls",
            "_model_module_version": "1.5.0",
            "_model_name": "ProgressStyleModel",
            "_view_count": null,
            "_view_module": "@jupyter-widgets/base",
            "_view_module_version": "1.2.0",
            "_view_name": "StyleView",
            "bar_color": null,
            "description_width": ""
          }
        },
        "d5be8a1bc17a486da0eddcbe74ff2c5c": {
          "model_module": "@jupyter-widgets/base",
          "model_name": "LayoutModel",
          "model_module_version": "1.2.0",
          "state": {
            "_model_module": "@jupyter-widgets/base",
            "_model_module_version": "1.2.0",
            "_model_name": "LayoutModel",
            "_view_count": null,
            "_view_module": "@jupyter-widgets/base",
            "_view_module_version": "1.2.0",
            "_view_name": "LayoutView",
            "align_content": null,
            "align_items": null,
            "align_self": null,
            "border": null,
            "bottom": null,
            "display": null,
            "flex": null,
            "flex_flow": null,
            "grid_area": null,
            "grid_auto_columns": null,
            "grid_auto_flow": null,
            "grid_auto_rows": null,
            "grid_column": null,
            "grid_gap": null,
            "grid_row": null,
            "grid_template_areas": null,
            "grid_template_columns": null,
            "grid_template_rows": null,
            "height": null,
            "justify_content": null,
            "justify_items": null,
            "left": null,
            "margin": null,
            "max_height": null,
            "max_width": null,
            "min_height": null,
            "min_width": null,
            "object_fit": null,
            "object_position": null,
            "order": null,
            "overflow": null,
            "overflow_x": null,
            "overflow_y": null,
            "padding": null,
            "right": null,
            "top": null,
            "visibility": null,
            "width": null
          }
        },
        "f7a6a8dba02341509d6e39ce84430303": {
          "model_module": "@jupyter-widgets/controls",
          "model_name": "DescriptionStyleModel",
          "model_module_version": "1.5.0",
          "state": {
            "_model_module": "@jupyter-widgets/controls",
            "_model_module_version": "1.5.0",
            "_model_name": "DescriptionStyleModel",
            "_view_count": null,
            "_view_module": "@jupyter-widgets/base",
            "_view_module_version": "1.2.0",
            "_view_name": "StyleView",
            "description_width": ""
          }
        },
        "a37ffc81ec9b414dba87c9b156b46579": {
          "model_module": "@jupyter-widgets/base",
          "model_name": "LayoutModel",
          "model_module_version": "1.2.0",
          "state": {
            "_model_module": "@jupyter-widgets/base",
            "_model_module_version": "1.2.0",
            "_model_name": "LayoutModel",
            "_view_count": null,
            "_view_module": "@jupyter-widgets/base",
            "_view_module_version": "1.2.0",
            "_view_name": "LayoutView",
            "align_content": null,
            "align_items": null,
            "align_self": null,
            "border": null,
            "bottom": null,
            "display": null,
            "flex": null,
            "flex_flow": null,
            "grid_area": null,
            "grid_auto_columns": null,
            "grid_auto_flow": null,
            "grid_auto_rows": null,
            "grid_column": null,
            "grid_gap": null,
            "grid_row": null,
            "grid_template_areas": null,
            "grid_template_columns": null,
            "grid_template_rows": null,
            "height": null,
            "justify_content": null,
            "justify_items": null,
            "left": null,
            "margin": null,
            "max_height": null,
            "max_width": null,
            "min_height": null,
            "min_width": null,
            "object_fit": null,
            "object_position": null,
            "order": null,
            "overflow": null,
            "overflow_x": null,
            "overflow_y": null,
            "padding": null,
            "right": null,
            "top": null,
            "visibility": null,
            "width": null
          }
        },
        "29055b963d98409986c04e5ba54e1cef": {
          "model_module": "@jupyter-widgets/controls",
          "model_name": "ProgressStyleModel",
          "model_module_version": "1.5.0",
          "state": {
            "_model_module": "@jupyter-widgets/controls",
            "_model_module_version": "1.5.0",
            "_model_name": "ProgressStyleModel",
            "_view_count": null,
            "_view_module": "@jupyter-widgets/base",
            "_view_module_version": "1.2.0",
            "_view_name": "StyleView",
            "bar_color": null,
            "description_width": ""
          }
        },
        "963ede4157c04d73aef267a0c2039316": {
          "model_module": "@jupyter-widgets/base",
          "model_name": "LayoutModel",
          "model_module_version": "1.2.0",
          "state": {
            "_model_module": "@jupyter-widgets/base",
            "_model_module_version": "1.2.0",
            "_model_name": "LayoutModel",
            "_view_count": null,
            "_view_module": "@jupyter-widgets/base",
            "_view_module_version": "1.2.0",
            "_view_name": "LayoutView",
            "align_content": null,
            "align_items": null,
            "align_self": null,
            "border": null,
            "bottom": null,
            "display": null,
            "flex": null,
            "flex_flow": null,
            "grid_area": null,
            "grid_auto_columns": null,
            "grid_auto_flow": null,
            "grid_auto_rows": null,
            "grid_column": null,
            "grid_gap": null,
            "grid_row": null,
            "grid_template_areas": null,
            "grid_template_columns": null,
            "grid_template_rows": null,
            "height": null,
            "justify_content": null,
            "justify_items": null,
            "left": null,
            "margin": null,
            "max_height": null,
            "max_width": null,
            "min_height": null,
            "min_width": null,
            "object_fit": null,
            "object_position": null,
            "order": null,
            "overflow": null,
            "overflow_x": null,
            "overflow_y": null,
            "padding": null,
            "right": null,
            "top": null,
            "visibility": null,
            "width": null
          }
        },
        "eb4f44daf6344a4b93175b7cf67fb55c": {
          "model_module": "@jupyter-widgets/controls",
          "model_name": "DescriptionStyleModel",
          "model_module_version": "1.5.0",
          "state": {
            "_model_module": "@jupyter-widgets/controls",
            "_model_module_version": "1.5.0",
            "_model_name": "DescriptionStyleModel",
            "_view_count": null,
            "_view_module": "@jupyter-widgets/base",
            "_view_module_version": "1.2.0",
            "_view_name": "StyleView",
            "description_width": ""
          }
        },
        "984c0f8f468844c19055b7d35f5e1952": {
          "model_module": "@jupyter-widgets/base",
          "model_name": "LayoutModel",
          "model_module_version": "1.2.0",
          "state": {
            "_model_module": "@jupyter-widgets/base",
            "_model_module_version": "1.2.0",
            "_model_name": "LayoutModel",
            "_view_count": null,
            "_view_module": "@jupyter-widgets/base",
            "_view_module_version": "1.2.0",
            "_view_name": "LayoutView",
            "align_content": null,
            "align_items": null,
            "align_self": null,
            "border": null,
            "bottom": null,
            "display": null,
            "flex": null,
            "flex_flow": null,
            "grid_area": null,
            "grid_auto_columns": null,
            "grid_auto_flow": null,
            "grid_auto_rows": null,
            "grid_column": null,
            "grid_gap": null,
            "grid_row": null,
            "grid_template_areas": null,
            "grid_template_columns": null,
            "grid_template_rows": null,
            "height": null,
            "justify_content": null,
            "justify_items": null,
            "left": null,
            "margin": null,
            "max_height": null,
            "max_width": null,
            "min_height": null,
            "min_width": null,
            "object_fit": null,
            "object_position": null,
            "order": null,
            "overflow": null,
            "overflow_x": null,
            "overflow_y": null,
            "padding": null,
            "right": null,
            "top": null,
            "visibility": null,
            "width": null
          }
        },
        "275d17f68e304ef4b7e78abd4d8eca98": {
          "model_module": "@jupyter-widgets/controls",
          "model_name": "DescriptionStyleModel",
          "model_module_version": "1.5.0",
          "state": {
            "_model_module": "@jupyter-widgets/controls",
            "_model_module_version": "1.5.0",
            "_model_name": "DescriptionStyleModel",
            "_view_count": null,
            "_view_module": "@jupyter-widgets/base",
            "_view_module_version": "1.2.0",
            "_view_name": "StyleView",
            "description_width": ""
          }
        },
        "2a847188d4a84e83a8c92ca54f639017": {
          "model_module": "@jupyter-widgets/controls",
          "model_name": "HTMLModel",
          "model_module_version": "1.5.0",
          "state": {
            "_dom_classes": [],
            "_model_module": "@jupyter-widgets/controls",
            "_model_module_version": "1.5.0",
            "_model_name": "HTMLModel",
            "_view_count": null,
            "_view_module": "@jupyter-widgets/controls",
            "_view_module_version": "1.5.0",
            "_view_name": "HTMLView",
            "description": "",
            "description_tooltip": null,
            "layout": "IPY_MODEL_963ede4157c04d73aef267a0c2039316",
            "placeholder": "​",
            "style": "IPY_MODEL_eb4f44daf6344a4b93175b7cf67fb55c",
            "value": "100%"
          }
        },
        "8f3fce75d8494eae8a84f2b01ebd058f": {
          "model_module": "@jupyter-widgets/controls",
          "model_name": "FloatProgressModel",
          "model_module_version": "1.5.0",
          "state": {
            "_dom_classes": [],
            "_model_module": "@jupyter-widgets/controls",
            "_model_module_version": "1.5.0",
            "_model_name": "FloatProgressModel",
            "_view_count": null,
            "_view_module": "@jupyter-widgets/controls",
            "_view_module_version": "1.5.0",
            "_view_name": "ProgressView",
            "bar_style": "",
            "description": "",
            "description_tooltip": null,
            "layout": "IPY_MODEL_a37ffc81ec9b414dba87c9b156b46579",
            "max": 1855,
            "min": 0,
            "orientation": "horizontal",
            "style": "IPY_MODEL_29055b963d98409986c04e5ba54e1cef",
            "value": 1855
          }
        },
        "5547a5b1df024af0bfaaaba8b6af68d4": {
          "model_module": "@jupyter-widgets/controls",
          "model_name": "HTMLModel",
          "model_module_version": "1.5.0",
          "state": {
            "_dom_classes": [],
            "_model_module": "@jupyter-widgets/controls",
            "_model_module_version": "1.5.0",
            "_model_name": "HTMLModel",
            "_view_count": null,
            "_view_module": "@jupyter-widgets/controls",
            "_view_module_version": "1.5.0",
            "_view_name": "HTMLView",
            "description": "",
            "description_tooltip": null,
            "layout": "IPY_MODEL_984c0f8f468844c19055b7d35f5e1952",
            "placeholder": "​",
            "style": "IPY_MODEL_275d17f68e304ef4b7e78abd4d8eca98",
            "value": " 1855/1855 [03:38&lt;00:00,  9.48it/s]"
          }
        },
        "b93f69eca83246bf8310e60e59d7ed62": {
          "model_module": "@jupyter-widgets/base",
          "model_name": "LayoutModel",
          "model_module_version": "1.2.0",
          "state": {
            "_model_module": "@jupyter-widgets/base",
            "_model_module_version": "1.2.0",
            "_model_name": "LayoutModel",
            "_view_count": null,
            "_view_module": "@jupyter-widgets/base",
            "_view_module_version": "1.2.0",
            "_view_name": "LayoutView",
            "align_content": null,
            "align_items": null,
            "align_self": null,
            "border": null,
            "bottom": null,
            "display": null,
            "flex": null,
            "flex_flow": null,
            "grid_area": null,
            "grid_auto_columns": null,
            "grid_auto_flow": null,
            "grid_auto_rows": null,
            "grid_column": null,
            "grid_gap": null,
            "grid_row": null,
            "grid_template_areas": null,
            "grid_template_columns": null,
            "grid_template_rows": null,
            "height": null,
            "justify_content": null,
            "justify_items": null,
            "left": null,
            "margin": null,
            "max_height": null,
            "max_width": null,
            "min_height": null,
            "min_width": null,
            "object_fit": null,
            "object_position": null,
            "order": null,
            "overflow": null,
            "overflow_x": null,
            "overflow_y": null,
            "padding": null,
            "right": null,
            "top": null,
            "visibility": null,
            "width": null
          }
        },
        "d5c0eb0810ba45d49a70af7b2ca90c6a": {
          "model_module": "@jupyter-widgets/controls",
          "model_name": "HBoxModel",
          "model_module_version": "1.5.0",
          "state": {
            "_dom_classes": [],
            "_model_module": "@jupyter-widgets/controls",
            "_model_module_version": "1.5.0",
            "_model_name": "HBoxModel",
            "_view_count": null,
            "_view_module": "@jupyter-widgets/controls",
            "_view_module_version": "1.5.0",
            "_view_name": "HBoxView",
            "box_style": "",
            "children": [
              "IPY_MODEL_2a847188d4a84e83a8c92ca54f639017",
              "IPY_MODEL_8f3fce75d8494eae8a84f2b01ebd058f",
              "IPY_MODEL_5547a5b1df024af0bfaaaba8b6af68d4"
            ],
            "layout": "IPY_MODEL_b93f69eca83246bf8310e60e59d7ed62"
          }
        },
        "19347d065dbe45a8b7123bc6a4f841df": {
          "model_module": "@jupyter-widgets/base",
          "model_name": "LayoutModel",
          "model_module_version": "1.2.0",
          "state": {
            "_model_module": "@jupyter-widgets/base",
            "_model_module_version": "1.2.0",
            "_model_name": "LayoutModel",
            "_view_count": null,
            "_view_module": "@jupyter-widgets/base",
            "_view_module_version": "1.2.0",
            "_view_name": "LayoutView",
            "align_content": null,
            "align_items": null,
            "align_self": null,
            "border": null,
            "bottom": null,
            "display": null,
            "flex": null,
            "flex_flow": null,
            "grid_area": null,
            "grid_auto_columns": null,
            "grid_auto_flow": null,
            "grid_auto_rows": null,
            "grid_column": null,
            "grid_gap": null,
            "grid_row": null,
            "grid_template_areas": null,
            "grid_template_columns": null,
            "grid_template_rows": null,
            "height": null,
            "justify_content": null,
            "justify_items": null,
            "left": null,
            "margin": null,
            "max_height": null,
            "max_width": null,
            "min_height": null,
            "min_width": null,
            "object_fit": null,
            "object_position": null,
            "order": null,
            "overflow": null,
            "overflow_x": null,
            "overflow_y": null,
            "padding": null,
            "right": null,
            "top": null,
            "visibility": null,
            "width": null
          }
        },
        "4deb6025aec34ae18578b97ad609f0b7": {
          "model_module": "@jupyter-widgets/controls",
          "model_name": "ProgressStyleModel",
          "model_module_version": "1.5.0",
          "state": {
            "_model_module": "@jupyter-widgets/controls",
            "_model_module_version": "1.5.0",
            "_model_name": "ProgressStyleModel",
            "_view_count": null,
            "_view_module": "@jupyter-widgets/base",
            "_view_module_version": "1.2.0",
            "_view_name": "StyleView",
            "bar_color": null,
            "description_width": ""
          }
        },
        "2733a6d67552492091c6c7c7db559dc8": {
          "model_module": "@jupyter-widgets/base",
          "model_name": "LayoutModel",
          "model_module_version": "1.2.0",
          "state": {
            "_model_module": "@jupyter-widgets/base",
            "_model_module_version": "1.2.0",
            "_model_name": "LayoutModel",
            "_view_count": null,
            "_view_module": "@jupyter-widgets/base",
            "_view_module_version": "1.2.0",
            "_view_name": "LayoutView",
            "align_content": null,
            "align_items": null,
            "align_self": null,
            "border": null,
            "bottom": null,
            "display": null,
            "flex": null,
            "flex_flow": null,
            "grid_area": null,
            "grid_auto_columns": null,
            "grid_auto_flow": null,
            "grid_auto_rows": null,
            "grid_column": null,
            "grid_gap": null,
            "grid_row": null,
            "grid_template_areas": null,
            "grid_template_columns": null,
            "grid_template_rows": null,
            "height": null,
            "justify_content": null,
            "justify_items": null,
            "left": null,
            "margin": null,
            "max_height": null,
            "max_width": null,
            "min_height": null,
            "min_width": null,
            "object_fit": null,
            "object_position": null,
            "order": null,
            "overflow": null,
            "overflow_x": null,
            "overflow_y": null,
            "padding": null,
            "right": null,
            "top": null,
            "visibility": null,
            "width": null
          }
        },
        "0d23749913bd457f9c65fc9094096079": {
          "model_module": "@jupyter-widgets/controls",
          "model_name": "DescriptionStyleModel",
          "model_module_version": "1.5.0",
          "state": {
            "_model_module": "@jupyter-widgets/controls",
            "_model_module_version": "1.5.0",
            "_model_name": "DescriptionStyleModel",
            "_view_count": null,
            "_view_module": "@jupyter-widgets/base",
            "_view_module_version": "1.2.0",
            "_view_name": "StyleView",
            "description_width": ""
          }
        },
        "e1ad43c08ba54efc9d54601dab361fba": {
          "model_module": "@jupyter-widgets/base",
          "model_name": "LayoutModel",
          "model_module_version": "1.2.0",
          "state": {
            "_model_module": "@jupyter-widgets/base",
            "_model_module_version": "1.2.0",
            "_model_name": "LayoutModel",
            "_view_count": null,
            "_view_module": "@jupyter-widgets/base",
            "_view_module_version": "1.2.0",
            "_view_name": "LayoutView",
            "align_content": null,
            "align_items": null,
            "align_self": null,
            "border": null,
            "bottom": null,
            "display": null,
            "flex": null,
            "flex_flow": null,
            "grid_area": null,
            "grid_auto_columns": null,
            "grid_auto_flow": null,
            "grid_auto_rows": null,
            "grid_column": null,
            "grid_gap": null,
            "grid_row": null,
            "grid_template_areas": null,
            "grid_template_columns": null,
            "grid_template_rows": null,
            "height": null,
            "justify_content": null,
            "justify_items": null,
            "left": null,
            "margin": null,
            "max_height": null,
            "max_width": null,
            "min_height": null,
            "min_width": null,
            "object_fit": null,
            "object_position": null,
            "order": null,
            "overflow": null,
            "overflow_x": null,
            "overflow_y": null,
            "padding": null,
            "right": null,
            "top": null,
            "visibility": null,
            "width": null
          }
        },
        "7141e9d5e4d147558480c1ca6776a900": {
          "model_module": "@jupyter-widgets/controls",
          "model_name": "DescriptionStyleModel",
          "model_module_version": "1.5.0",
          "state": {
            "_model_module": "@jupyter-widgets/controls",
            "_model_module_version": "1.5.0",
            "_model_name": "DescriptionStyleModel",
            "_view_count": null,
            "_view_module": "@jupyter-widgets/base",
            "_view_module_version": "1.2.0",
            "_view_name": "StyleView",
            "description_width": ""
          }
        },
        "5c539b9ecf2146e7acdc72217e98cf78": {
          "model_module": "@jupyter-widgets/controls",
          "model_name": "HTMLModel",
          "model_module_version": "1.5.0",
          "state": {
            "_dom_classes": [],
            "_model_module": "@jupyter-widgets/controls",
            "_model_module_version": "1.5.0",
            "_model_name": "HTMLModel",
            "_view_count": null,
            "_view_module": "@jupyter-widgets/controls",
            "_view_module_version": "1.5.0",
            "_view_name": "HTMLView",
            "description": "",
            "description_tooltip": null,
            "layout": "IPY_MODEL_2733a6d67552492091c6c7c7db559dc8",
            "placeholder": "​",
            "style": "IPY_MODEL_0d23749913bd457f9c65fc9094096079",
            "value": "100%"
          }
        },
        "2f2f602f427b488fa89ce23f529ed684": {
          "model_module": "@jupyter-widgets/controls",
          "model_name": "FloatProgressModel",
          "model_module_version": "1.5.0",
          "state": {
            "_dom_classes": [],
            "_model_module": "@jupyter-widgets/controls",
            "_model_module_version": "1.5.0",
            "_model_name": "FloatProgressModel",
            "_view_count": null,
            "_view_module": "@jupyter-widgets/controls",
            "_view_module_version": "1.5.0",
            "_view_name": "ProgressView",
            "bar_style": "",
            "description": "",
            "description_tooltip": null,
            "layout": "IPY_MODEL_19347d065dbe45a8b7123bc6a4f841df",
            "max": 1855,
            "min": 0,
            "orientation": "horizontal",
            "style": "IPY_MODEL_4deb6025aec34ae18578b97ad609f0b7",
            "value": 1855
          }
        },
        "2a56e3cc8c724a0ab82df70c88bd925b": {
          "model_module": "@jupyter-widgets/controls",
          "model_name": "HTMLModel",
          "model_module_version": "1.5.0",
          "state": {
            "_dom_classes": [],
            "_model_module": "@jupyter-widgets/controls",
            "_model_module_version": "1.5.0",
            "_model_name": "HTMLModel",
            "_view_count": null,
            "_view_module": "@jupyter-widgets/controls",
            "_view_module_version": "1.5.0",
            "_view_name": "HTMLView",
            "description": "",
            "description_tooltip": null,
            "layout": "IPY_MODEL_e1ad43c08ba54efc9d54601dab361fba",
            "placeholder": "​",
            "style": "IPY_MODEL_7141e9d5e4d147558480c1ca6776a900",
            "value": " 1855/1855 [03:37&lt;00:00,  7.40it/s]"
          }
        },
        "2bd0c3a6a838467b9ac3741ac7f79f2c": {
          "model_module": "@jupyter-widgets/base",
          "model_name": "LayoutModel",
          "model_module_version": "1.2.0",
          "state": {
            "_model_module": "@jupyter-widgets/base",
            "_model_module_version": "1.2.0",
            "_model_name": "LayoutModel",
            "_view_count": null,
            "_view_module": "@jupyter-widgets/base",
            "_view_module_version": "1.2.0",
            "_view_name": "LayoutView",
            "align_content": null,
            "align_items": null,
            "align_self": null,
            "border": null,
            "bottom": null,
            "display": null,
            "flex": null,
            "flex_flow": null,
            "grid_area": null,
            "grid_auto_columns": null,
            "grid_auto_flow": null,
            "grid_auto_rows": null,
            "grid_column": null,
            "grid_gap": null,
            "grid_row": null,
            "grid_template_areas": null,
            "grid_template_columns": null,
            "grid_template_rows": null,
            "height": null,
            "justify_content": null,
            "justify_items": null,
            "left": null,
            "margin": null,
            "max_height": null,
            "max_width": null,
            "min_height": null,
            "min_width": null,
            "object_fit": null,
            "object_position": null,
            "order": null,
            "overflow": null,
            "overflow_x": null,
            "overflow_y": null,
            "padding": null,
            "right": null,
            "top": null,
            "visibility": null,
            "width": null
          }
        },
        "6e3e9e114fa44b54a7b7b1838d3743e8": {
          "model_module": "@jupyter-widgets/controls",
          "model_name": "HBoxModel",
          "model_module_version": "1.5.0",
          "state": {
            "_dom_classes": [],
            "_model_module": "@jupyter-widgets/controls",
            "_model_module_version": "1.5.0",
            "_model_name": "HBoxModel",
            "_view_count": null,
            "_view_module": "@jupyter-widgets/controls",
            "_view_module_version": "1.5.0",
            "_view_name": "HBoxView",
            "box_style": "",
            "children": [
              "IPY_MODEL_5c539b9ecf2146e7acdc72217e98cf78",
              "IPY_MODEL_2f2f602f427b488fa89ce23f529ed684",
              "IPY_MODEL_2a56e3cc8c724a0ab82df70c88bd925b"
            ],
            "layout": "IPY_MODEL_2bd0c3a6a838467b9ac3741ac7f79f2c"
          }
        },
        "40c31bb5359049c4b49fb95602c34d94": {
          "model_module": "@jupyter-widgets/base",
          "model_name": "LayoutModel",
          "model_module_version": "1.2.0",
          "state": {
            "_model_module": "@jupyter-widgets/base",
            "_model_module_version": "1.2.0",
            "_model_name": "LayoutModel",
            "_view_count": null,
            "_view_module": "@jupyter-widgets/base",
            "_view_module_version": "1.2.0",
            "_view_name": "LayoutView",
            "align_content": null,
            "align_items": null,
            "align_self": null,
            "border": null,
            "bottom": null,
            "display": null,
            "flex": null,
            "flex_flow": null,
            "grid_area": null,
            "grid_auto_columns": null,
            "grid_auto_flow": null,
            "grid_auto_rows": null,
            "grid_column": null,
            "grid_gap": null,
            "grid_row": null,
            "grid_template_areas": null,
            "grid_template_columns": null,
            "grid_template_rows": null,
            "height": null,
            "justify_content": null,
            "justify_items": null,
            "left": null,
            "margin": null,
            "max_height": null,
            "max_width": null,
            "min_height": null,
            "min_width": null,
            "object_fit": null,
            "object_position": null,
            "order": null,
            "overflow": null,
            "overflow_x": null,
            "overflow_y": null,
            "padding": null,
            "right": null,
            "top": null,
            "visibility": null,
            "width": null
          }
        },
        "17f3662d63dd4a44b4160c6246978818": {
          "model_module": "@jupyter-widgets/controls",
          "model_name": "ProgressStyleModel",
          "model_module_version": "1.5.0",
          "state": {
            "_model_module": "@jupyter-widgets/controls",
            "_model_module_version": "1.5.0",
            "_model_name": "ProgressStyleModel",
            "_view_count": null,
            "_view_module": "@jupyter-widgets/base",
            "_view_module_version": "1.2.0",
            "_view_name": "StyleView",
            "bar_color": null,
            "description_width": ""
          }
        },
        "4408650d01f149919b4a3454cb294d3b": {
          "model_module": "@jupyter-widgets/base",
          "model_name": "LayoutModel",
          "model_module_version": "1.2.0",
          "state": {
            "_model_module": "@jupyter-widgets/base",
            "_model_module_version": "1.2.0",
            "_model_name": "LayoutModel",
            "_view_count": null,
            "_view_module": "@jupyter-widgets/base",
            "_view_module_version": "1.2.0",
            "_view_name": "LayoutView",
            "align_content": null,
            "align_items": null,
            "align_self": null,
            "border": null,
            "bottom": null,
            "display": null,
            "flex": null,
            "flex_flow": null,
            "grid_area": null,
            "grid_auto_columns": null,
            "grid_auto_flow": null,
            "grid_auto_rows": null,
            "grid_column": null,
            "grid_gap": null,
            "grid_row": null,
            "grid_template_areas": null,
            "grid_template_columns": null,
            "grid_template_rows": null,
            "height": null,
            "justify_content": null,
            "justify_items": null,
            "left": null,
            "margin": null,
            "max_height": null,
            "max_width": null,
            "min_height": null,
            "min_width": null,
            "object_fit": null,
            "object_position": null,
            "order": null,
            "overflow": null,
            "overflow_x": null,
            "overflow_y": null,
            "padding": null,
            "right": null,
            "top": null,
            "visibility": null,
            "width": null
          }
        },
        "47de18a961af475db1c3fb3f044f3360": {
          "model_module": "@jupyter-widgets/controls",
          "model_name": "DescriptionStyleModel",
          "model_module_version": "1.5.0",
          "state": {
            "_model_module": "@jupyter-widgets/controls",
            "_model_module_version": "1.5.0",
            "_model_name": "DescriptionStyleModel",
            "_view_count": null,
            "_view_module": "@jupyter-widgets/base",
            "_view_module_version": "1.2.0",
            "_view_name": "StyleView",
            "description_width": ""
          }
        },
        "d1ca1ec827104669b0274a7403763520": {
          "model_module": "@jupyter-widgets/base",
          "model_name": "LayoutModel",
          "model_module_version": "1.2.0",
          "state": {
            "_model_module": "@jupyter-widgets/base",
            "_model_module_version": "1.2.0",
            "_model_name": "LayoutModel",
            "_view_count": null,
            "_view_module": "@jupyter-widgets/base",
            "_view_module_version": "1.2.0",
            "_view_name": "LayoutView",
            "align_content": null,
            "align_items": null,
            "align_self": null,
            "border": null,
            "bottom": null,
            "display": null,
            "flex": null,
            "flex_flow": null,
            "grid_area": null,
            "grid_auto_columns": null,
            "grid_auto_flow": null,
            "grid_auto_rows": null,
            "grid_column": null,
            "grid_gap": null,
            "grid_row": null,
            "grid_template_areas": null,
            "grid_template_columns": null,
            "grid_template_rows": null,
            "height": null,
            "justify_content": null,
            "justify_items": null,
            "left": null,
            "margin": null,
            "max_height": null,
            "max_width": null,
            "min_height": null,
            "min_width": null,
            "object_fit": null,
            "object_position": null,
            "order": null,
            "overflow": null,
            "overflow_x": null,
            "overflow_y": null,
            "padding": null,
            "right": null,
            "top": null,
            "visibility": null,
            "width": null
          }
        },
        "3fa3dafd52444fe78f7bbbb2c2c1f43a": {
          "model_module": "@jupyter-widgets/controls",
          "model_name": "DescriptionStyleModel",
          "model_module_version": "1.5.0",
          "state": {
            "_model_module": "@jupyter-widgets/controls",
            "_model_module_version": "1.5.0",
            "_model_name": "DescriptionStyleModel",
            "_view_count": null,
            "_view_module": "@jupyter-widgets/base",
            "_view_module_version": "1.2.0",
            "_view_name": "StyleView",
            "description_width": ""
          }
        },
        "f047b75e3b7b4b508c1ed70975c3bdf6": {
          "model_module": "@jupyter-widgets/controls",
          "model_name": "HTMLModel",
          "model_module_version": "1.5.0",
          "state": {
            "_dom_classes": [],
            "_model_module": "@jupyter-widgets/controls",
            "_model_module_version": "1.5.0",
            "_model_name": "HTMLModel",
            "_view_count": null,
            "_view_module": "@jupyter-widgets/controls",
            "_view_module_version": "1.5.0",
            "_view_name": "HTMLView",
            "description": "",
            "description_tooltip": null,
            "layout": "IPY_MODEL_4408650d01f149919b4a3454cb294d3b",
            "placeholder": "​",
            "style": "IPY_MODEL_47de18a961af475db1c3fb3f044f3360",
            "value": "100%"
          }
        },
        "9d84adca6e2e4fbf8bf89d6b220d7210": {
          "model_module": "@jupyter-widgets/controls",
          "model_name": "FloatProgressModel",
          "model_module_version": "1.5.0",
          "state": {
            "_dom_classes": [],
            "_model_module": "@jupyter-widgets/controls",
            "_model_module_version": "1.5.0",
            "_model_name": "FloatProgressModel",
            "_view_count": null,
            "_view_module": "@jupyter-widgets/controls",
            "_view_module_version": "1.5.0",
            "_view_name": "ProgressView",
            "bar_style": "",
            "description": "",
            "description_tooltip": null,
            "layout": "IPY_MODEL_40c31bb5359049c4b49fb95602c34d94",
            "max": 1855,
            "min": 0,
            "orientation": "horizontal",
            "style": "IPY_MODEL_17f3662d63dd4a44b4160c6246978818",
            "value": 1854
          }
        },
        "fe62a8157786479dbb5967ff1bf6b2a0": {
          "model_module": "@jupyter-widgets/controls",
          "model_name": "HTMLModel",
          "model_module_version": "1.5.0",
          "state": {
            "_dom_classes": [],
            "_model_module": "@jupyter-widgets/controls",
            "_model_module_version": "1.5.0",
            "_model_name": "HTMLModel",
            "_view_count": null,
            "_view_module": "@jupyter-widgets/controls",
            "_view_module_version": "1.5.0",
            "_view_name": "HTMLView",
            "description": "",
            "description_tooltip": null,
            "layout": "IPY_MODEL_d1ca1ec827104669b0274a7403763520",
            "placeholder": "​",
            "style": "IPY_MODEL_3fa3dafd52444fe78f7bbbb2c2c1f43a",
            "value": " 1854/1855 [03:42&lt;00:00,  9.58it/s]"
          }
        },
        "d51fa8c2710445c88f9d8d7652e1b6b4": {
          "model_module": "@jupyter-widgets/base",
          "model_name": "LayoutModel",
          "model_module_version": "1.2.0",
          "state": {
            "_model_module": "@jupyter-widgets/base",
            "_model_module_version": "1.2.0",
            "_model_name": "LayoutModel",
            "_view_count": null,
            "_view_module": "@jupyter-widgets/base",
            "_view_module_version": "1.2.0",
            "_view_name": "LayoutView",
            "align_content": null,
            "align_items": null,
            "align_self": null,
            "border": null,
            "bottom": null,
            "display": null,
            "flex": null,
            "flex_flow": null,
            "grid_area": null,
            "grid_auto_columns": null,
            "grid_auto_flow": null,
            "grid_auto_rows": null,
            "grid_column": null,
            "grid_gap": null,
            "grid_row": null,
            "grid_template_areas": null,
            "grid_template_columns": null,
            "grid_template_rows": null,
            "height": null,
            "justify_content": null,
            "justify_items": null,
            "left": null,
            "margin": null,
            "max_height": null,
            "max_width": null,
            "min_height": null,
            "min_width": null,
            "object_fit": null,
            "object_position": null,
            "order": null,
            "overflow": null,
            "overflow_x": null,
            "overflow_y": null,
            "padding": null,
            "right": null,
            "top": null,
            "visibility": null,
            "width": null
          }
        },
        "6f83cb89bf41461fa0f1bfd5d9f950b3": {
          "model_module": "@jupyter-widgets/controls",
          "model_name": "HBoxModel",
          "model_module_version": "1.5.0",
          "state": {
            "_dom_classes": [],
            "_model_module": "@jupyter-widgets/controls",
            "_model_module_version": "1.5.0",
            "_model_name": "HBoxModel",
            "_view_count": null,
            "_view_module": "@jupyter-widgets/controls",
            "_view_module_version": "1.5.0",
            "_view_name": "HBoxView",
            "box_style": "",
            "children": [
              "IPY_MODEL_f047b75e3b7b4b508c1ed70975c3bdf6",
              "IPY_MODEL_9d84adca6e2e4fbf8bf89d6b220d7210",
              "IPY_MODEL_fe62a8157786479dbb5967ff1bf6b2a0"
            ],
            "layout": "IPY_MODEL_d51fa8c2710445c88f9d8d7652e1b6b4"
          }
        },
        "7c37076ff75140259a73794afa30a9e0": {
          "model_module": "@jupyter-widgets/controls",
          "model_name": "HBoxModel",
          "model_module_version": "1.5.0",
          "state": {
            "_dom_classes": [],
            "_model_module": "@jupyter-widgets/controls",
            "_model_module_version": "1.5.0",
            "_model_name": "HBoxModel",
            "_view_count": null,
            "_view_module": "@jupyter-widgets/controls",
            "_view_module_version": "1.5.0",
            "_view_name": "HBoxView",
            "box_style": "",
            "children": [
              "IPY_MODEL_86c826ea50004e8bba97875462f63681",
              "IPY_MODEL_d6c1c273afc64ff7bf57e5a093d0591a",
              "IPY_MODEL_63d5288a434744f29e9ab02222bef6fa"
            ],
            "layout": "IPY_MODEL_fcd81d8868204694a2edd3fcf133f855"
          }
        },
        "86c826ea50004e8bba97875462f63681": {
          "model_module": "@jupyter-widgets/controls",
          "model_name": "HTMLModel",
          "model_module_version": "1.5.0",
          "state": {
            "_dom_classes": [],
            "_model_module": "@jupyter-widgets/controls",
            "_model_module_version": "1.5.0",
            "_model_name": "HTMLModel",
            "_view_count": null,
            "_view_module": "@jupyter-widgets/controls",
            "_view_module_version": "1.5.0",
            "_view_name": "HTMLView",
            "description": "",
            "description_tooltip": null,
            "layout": "IPY_MODEL_ad20def46832437692dda7ebd30704cf",
            "placeholder": "​",
            "style": "IPY_MODEL_a509279963a24fb1829bea770619c67b",
            "value": "100%"
          }
        },
        "d6c1c273afc64ff7bf57e5a093d0591a": {
          "model_module": "@jupyter-widgets/controls",
          "model_name": "FloatProgressModel",
          "model_module_version": "1.5.0",
          "state": {
            "_dom_classes": [],
            "_model_module": "@jupyter-widgets/controls",
            "_model_module_version": "1.5.0",
            "_model_name": "FloatProgressModel",
            "_view_count": null,
            "_view_module": "@jupyter-widgets/controls",
            "_view_module_version": "1.5.0",
            "_view_name": "ProgressView",
            "bar_style": "",
            "description": "",
            "description_tooltip": null,
            "layout": "IPY_MODEL_1b890f28fe88491cbfbaf5fdddbe00c1",
            "max": 443,
            "min": 0,
            "orientation": "horizontal",
            "style": "IPY_MODEL_4a45611e773e44afaa654d86d5dad944",
            "value": 443
          }
        },
        "63d5288a434744f29e9ab02222bef6fa": {
          "model_module": "@jupyter-widgets/controls",
          "model_name": "HTMLModel",
          "model_module_version": "1.5.0",
          "state": {
            "_dom_classes": [],
            "_model_module": "@jupyter-widgets/controls",
            "_model_module_version": "1.5.0",
            "_model_name": "HTMLModel",
            "_view_count": null,
            "_view_module": "@jupyter-widgets/controls",
            "_view_module_version": "1.5.0",
            "_view_name": "HTMLView",
            "description": "",
            "description_tooltip": null,
            "layout": "IPY_MODEL_d5dfb08181a64b66aaa209cef711110c",
            "placeholder": "​",
            "style": "IPY_MODEL_b4b1b7fdb20141948a3f56e4d167e3e9",
            "value": " 443/443 [00:21&lt;00:00, 179.73it/s]"
          }
        },
        "fcd81d8868204694a2edd3fcf133f855": {
          "model_module": "@jupyter-widgets/base",
          "model_name": "LayoutModel",
          "model_module_version": "1.2.0",
          "state": {
            "_model_module": "@jupyter-widgets/base",
            "_model_module_version": "1.2.0",
            "_model_name": "LayoutModel",
            "_view_count": null,
            "_view_module": "@jupyter-widgets/base",
            "_view_module_version": "1.2.0",
            "_view_name": "LayoutView",
            "align_content": null,
            "align_items": null,
            "align_self": null,
            "border": null,
            "bottom": null,
            "display": null,
            "flex": null,
            "flex_flow": null,
            "grid_area": null,
            "grid_auto_columns": null,
            "grid_auto_flow": null,
            "grid_auto_rows": null,
            "grid_column": null,
            "grid_gap": null,
            "grid_row": null,
            "grid_template_areas": null,
            "grid_template_columns": null,
            "grid_template_rows": null,
            "height": null,
            "justify_content": null,
            "justify_items": null,
            "left": null,
            "margin": null,
            "max_height": null,
            "max_width": null,
            "min_height": null,
            "min_width": null,
            "object_fit": null,
            "object_position": null,
            "order": null,
            "overflow": null,
            "overflow_x": null,
            "overflow_y": null,
            "padding": null,
            "right": null,
            "top": null,
            "visibility": null,
            "width": null
          }
        },
        "ad20def46832437692dda7ebd30704cf": {
          "model_module": "@jupyter-widgets/base",
          "model_name": "LayoutModel",
          "model_module_version": "1.2.0",
          "state": {
            "_model_module": "@jupyter-widgets/base",
            "_model_module_version": "1.2.0",
            "_model_name": "LayoutModel",
            "_view_count": null,
            "_view_module": "@jupyter-widgets/base",
            "_view_module_version": "1.2.0",
            "_view_name": "LayoutView",
            "align_content": null,
            "align_items": null,
            "align_self": null,
            "border": null,
            "bottom": null,
            "display": null,
            "flex": null,
            "flex_flow": null,
            "grid_area": null,
            "grid_auto_columns": null,
            "grid_auto_flow": null,
            "grid_auto_rows": null,
            "grid_column": null,
            "grid_gap": null,
            "grid_row": null,
            "grid_template_areas": null,
            "grid_template_columns": null,
            "grid_template_rows": null,
            "height": null,
            "justify_content": null,
            "justify_items": null,
            "left": null,
            "margin": null,
            "max_height": null,
            "max_width": null,
            "min_height": null,
            "min_width": null,
            "object_fit": null,
            "object_position": null,
            "order": null,
            "overflow": null,
            "overflow_x": null,
            "overflow_y": null,
            "padding": null,
            "right": null,
            "top": null,
            "visibility": null,
            "width": null
          }
        },
        "a509279963a24fb1829bea770619c67b": {
          "model_module": "@jupyter-widgets/controls",
          "model_name": "DescriptionStyleModel",
          "model_module_version": "1.5.0",
          "state": {
            "_model_module": "@jupyter-widgets/controls",
            "_model_module_version": "1.5.0",
            "_model_name": "DescriptionStyleModel",
            "_view_count": null,
            "_view_module": "@jupyter-widgets/base",
            "_view_module_version": "1.2.0",
            "_view_name": "StyleView",
            "description_width": ""
          }
        },
        "1b890f28fe88491cbfbaf5fdddbe00c1": {
          "model_module": "@jupyter-widgets/base",
          "model_name": "LayoutModel",
          "model_module_version": "1.2.0",
          "state": {
            "_model_module": "@jupyter-widgets/base",
            "_model_module_version": "1.2.0",
            "_model_name": "LayoutModel",
            "_view_count": null,
            "_view_module": "@jupyter-widgets/base",
            "_view_module_version": "1.2.0",
            "_view_name": "LayoutView",
            "align_content": null,
            "align_items": null,
            "align_self": null,
            "border": null,
            "bottom": null,
            "display": null,
            "flex": null,
            "flex_flow": null,
            "grid_area": null,
            "grid_auto_columns": null,
            "grid_auto_flow": null,
            "grid_auto_rows": null,
            "grid_column": null,
            "grid_gap": null,
            "grid_row": null,
            "grid_template_areas": null,
            "grid_template_columns": null,
            "grid_template_rows": null,
            "height": null,
            "justify_content": null,
            "justify_items": null,
            "left": null,
            "margin": null,
            "max_height": null,
            "max_width": null,
            "min_height": null,
            "min_width": null,
            "object_fit": null,
            "object_position": null,
            "order": null,
            "overflow": null,
            "overflow_x": null,
            "overflow_y": null,
            "padding": null,
            "right": null,
            "top": null,
            "visibility": null,
            "width": null
          }
        },
        "4a45611e773e44afaa654d86d5dad944": {
          "model_module": "@jupyter-widgets/controls",
          "model_name": "ProgressStyleModel",
          "model_module_version": "1.5.0",
          "state": {
            "_model_module": "@jupyter-widgets/controls",
            "_model_module_version": "1.5.0",
            "_model_name": "ProgressStyleModel",
            "_view_count": null,
            "_view_module": "@jupyter-widgets/base",
            "_view_module_version": "1.2.0",
            "_view_name": "StyleView",
            "bar_color": null,
            "description_width": ""
          }
        },
        "d5dfb08181a64b66aaa209cef711110c": {
          "model_module": "@jupyter-widgets/base",
          "model_name": "LayoutModel",
          "model_module_version": "1.2.0",
          "state": {
            "_model_module": "@jupyter-widgets/base",
            "_model_module_version": "1.2.0",
            "_model_name": "LayoutModel",
            "_view_count": null,
            "_view_module": "@jupyter-widgets/base",
            "_view_module_version": "1.2.0",
            "_view_name": "LayoutView",
            "align_content": null,
            "align_items": null,
            "align_self": null,
            "border": null,
            "bottom": null,
            "display": null,
            "flex": null,
            "flex_flow": null,
            "grid_area": null,
            "grid_auto_columns": null,
            "grid_auto_flow": null,
            "grid_auto_rows": null,
            "grid_column": null,
            "grid_gap": null,
            "grid_row": null,
            "grid_template_areas": null,
            "grid_template_columns": null,
            "grid_template_rows": null,
            "height": null,
            "justify_content": null,
            "justify_items": null,
            "left": null,
            "margin": null,
            "max_height": null,
            "max_width": null,
            "min_height": null,
            "min_width": null,
            "object_fit": null,
            "object_position": null,
            "order": null,
            "overflow": null,
            "overflow_x": null,
            "overflow_y": null,
            "padding": null,
            "right": null,
            "top": null,
            "visibility": null,
            "width": null
          }
        },
        "b4b1b7fdb20141948a3f56e4d167e3e9": {
          "model_module": "@jupyter-widgets/controls",
          "model_name": "DescriptionStyleModel",
          "model_module_version": "1.5.0",
          "state": {
            "_model_module": "@jupyter-widgets/controls",
            "_model_module_version": "1.5.0",
            "_model_name": "DescriptionStyleModel",
            "_view_count": null,
            "_view_module": "@jupyter-widgets/base",
            "_view_module_version": "1.2.0",
            "_view_name": "StyleView",
            "description_width": ""
          }
        }
      }
    }
  },
  "nbformat": 4,
  "nbformat_minor": 0
}